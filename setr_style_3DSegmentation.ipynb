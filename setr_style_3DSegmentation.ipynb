{
  "nbformat": 4,
  "nbformat_minor": 0,
  "metadata": {
    "colab": {
      "provenance": [],
      "gpuType": "T4",
      "authorship_tag": "ABX9TyME9Q+HYN0NjGNAb3/HloVh"
    },
    "kernelspec": {
      "name": "python3",
      "display_name": "Python 3"
    },
    "language_info": {
      "name": "python"
    },
    "accelerator": "GPU"
  },
  "cells": [
    {
      "cell_type": "markdown",
      "source": [
        "# Extending concept of using ViT encoder from SeTR to 3D segmentation tasks\n",
        "## Summary: This notebook is a proof of concept that extends the use of ViT encoder in a 2D segmentation model like that presented in SeTR to 3D segementation by using a 3D ViT as encoder and 3D CNN-based decoder. I provided simple examples of the model trained to segmenet 3D cubes with a spehere inside.\n",
        "\n",
        "##relevant papers:\n",
        "\n",
        "*  SETR: https://arxiv.org/pdf/2012.15840\n",
        "*  UNETR: https://arxiv.org/pdf/2103.10504\n",
        "\n",
        "##source code referenced:\n",
        "* UNETR implementation: https://github.com/tamasino52/UNETR/blob/main/unetr.py#L231\n",
        "* ViT-Pytorch implementation: https://github.com/lucidrains/vit-pytorch/blob/main/vit_pytorch/simple_vit_3d.py#L114\n",
        "###Name: Hanson Li\n",
        "\n"
      ],
      "metadata": {
        "id": "gf4dCzZTRM8I"
      }
    },
    {
      "cell_type": "markdown",
      "source": [
        "Install vit-pytorch. We will be using their 3D ViT as the encoder"
      ],
      "metadata": {
        "id": "mGxrVUBSSCJh"
      }
    },
    {
      "cell_type": "code",
      "execution_count": 1,
      "metadata": {
        "colab": {
          "base_uri": "https://localhost:8080/"
        },
        "id": "e1cZB3t2qDXh",
        "outputId": "bb098dcd-170b-46e9-aeff-e4c78636626a"
      },
      "outputs": [
        {
          "output_type": "stream",
          "name": "stdout",
          "text": [
            "Collecting vit-pytorch\n",
            "  Downloading vit_pytorch-1.11.7-py3-none-any.whl.metadata (69 kB)\n",
            "\u001b[?25l     \u001b[90m━━━━━━━━━━━━━━━━━━━━━━━━━━━━━━━━━━━━━━━━\u001b[0m \u001b[32m0.0/69.7 kB\u001b[0m \u001b[31m?\u001b[0m eta \u001b[36m-:--:--\u001b[0m\r\u001b[2K     \u001b[90m━━━━━━━━━━━━━━━━━━━━━━━━━━━━━━━━━━━━━━━━\u001b[0m \u001b[32m69.7/69.7 kB\u001b[0m \u001b[31m3.7 MB/s\u001b[0m eta \u001b[36m0:00:00\u001b[0m\n",
            "\u001b[?25hRequirement already satisfied: einops>=0.7.0 in /usr/local/lib/python3.12/dist-packages (from vit-pytorch) (0.8.1)\n",
            "Requirement already satisfied: torch>=1.10 in /usr/local/lib/python3.12/dist-packages (from vit-pytorch) (2.8.0+cu126)\n",
            "Requirement already satisfied: torchvision in /usr/local/lib/python3.12/dist-packages (from vit-pytorch) (0.23.0+cu126)\n",
            "Requirement already satisfied: filelock in /usr/local/lib/python3.12/dist-packages (from torch>=1.10->vit-pytorch) (3.19.1)\n",
            "Requirement already satisfied: typing-extensions>=4.10.0 in /usr/local/lib/python3.12/dist-packages (from torch>=1.10->vit-pytorch) (4.15.0)\n",
            "Requirement already satisfied: setuptools in /usr/local/lib/python3.12/dist-packages (from torch>=1.10->vit-pytorch) (75.2.0)\n",
            "Requirement already satisfied: sympy>=1.13.3 in /usr/local/lib/python3.12/dist-packages (from torch>=1.10->vit-pytorch) (1.13.3)\n",
            "Requirement already satisfied: networkx in /usr/local/lib/python3.12/dist-packages (from torch>=1.10->vit-pytorch) (3.5)\n",
            "Requirement already satisfied: jinja2 in /usr/local/lib/python3.12/dist-packages (from torch>=1.10->vit-pytorch) (3.1.6)\n",
            "Requirement already satisfied: fsspec in /usr/local/lib/python3.12/dist-packages (from torch>=1.10->vit-pytorch) (2025.3.0)\n",
            "Requirement already satisfied: nvidia-cuda-nvrtc-cu12==12.6.77 in /usr/local/lib/python3.12/dist-packages (from torch>=1.10->vit-pytorch) (12.6.77)\n",
            "Requirement already satisfied: nvidia-cuda-runtime-cu12==12.6.77 in /usr/local/lib/python3.12/dist-packages (from torch>=1.10->vit-pytorch) (12.6.77)\n",
            "Requirement already satisfied: nvidia-cuda-cupti-cu12==12.6.80 in /usr/local/lib/python3.12/dist-packages (from torch>=1.10->vit-pytorch) (12.6.80)\n",
            "Requirement already satisfied: nvidia-cudnn-cu12==9.10.2.21 in /usr/local/lib/python3.12/dist-packages (from torch>=1.10->vit-pytorch) (9.10.2.21)\n",
            "Requirement already satisfied: nvidia-cublas-cu12==12.6.4.1 in /usr/local/lib/python3.12/dist-packages (from torch>=1.10->vit-pytorch) (12.6.4.1)\n",
            "Requirement already satisfied: nvidia-cufft-cu12==11.3.0.4 in /usr/local/lib/python3.12/dist-packages (from torch>=1.10->vit-pytorch) (11.3.0.4)\n",
            "Requirement already satisfied: nvidia-curand-cu12==10.3.7.77 in /usr/local/lib/python3.12/dist-packages (from torch>=1.10->vit-pytorch) (10.3.7.77)\n",
            "Requirement already satisfied: nvidia-cusolver-cu12==11.7.1.2 in /usr/local/lib/python3.12/dist-packages (from torch>=1.10->vit-pytorch) (11.7.1.2)\n",
            "Requirement already satisfied: nvidia-cusparse-cu12==12.5.4.2 in /usr/local/lib/python3.12/dist-packages (from torch>=1.10->vit-pytorch) (12.5.4.2)\n",
            "Requirement already satisfied: nvidia-cusparselt-cu12==0.7.1 in /usr/local/lib/python3.12/dist-packages (from torch>=1.10->vit-pytorch) (0.7.1)\n",
            "Requirement already satisfied: nvidia-nccl-cu12==2.27.3 in /usr/local/lib/python3.12/dist-packages (from torch>=1.10->vit-pytorch) (2.27.3)\n",
            "Requirement already satisfied: nvidia-nvtx-cu12==12.6.77 in /usr/local/lib/python3.12/dist-packages (from torch>=1.10->vit-pytorch) (12.6.77)\n",
            "Requirement already satisfied: nvidia-nvjitlink-cu12==12.6.85 in /usr/local/lib/python3.12/dist-packages (from torch>=1.10->vit-pytorch) (12.6.85)\n",
            "Requirement already satisfied: nvidia-cufile-cu12==1.11.1.6 in /usr/local/lib/python3.12/dist-packages (from torch>=1.10->vit-pytorch) (1.11.1.6)\n",
            "Requirement already satisfied: triton==3.4.0 in /usr/local/lib/python3.12/dist-packages (from torch>=1.10->vit-pytorch) (3.4.0)\n",
            "Requirement already satisfied: numpy in /usr/local/lib/python3.12/dist-packages (from torchvision->vit-pytorch) (2.0.2)\n",
            "Requirement already satisfied: pillow!=8.3.*,>=5.3.0 in /usr/local/lib/python3.12/dist-packages (from torchvision->vit-pytorch) (11.3.0)\n",
            "Requirement already satisfied: mpmath<1.4,>=1.1.0 in /usr/local/lib/python3.12/dist-packages (from sympy>=1.13.3->torch>=1.10->vit-pytorch) (1.3.0)\n",
            "Requirement already satisfied: MarkupSafe>=2.0 in /usr/local/lib/python3.12/dist-packages (from jinja2->torch>=1.10->vit-pytorch) (3.0.2)\n",
            "Downloading vit_pytorch-1.11.7-py3-none-any.whl (142 kB)\n",
            "\u001b[2K   \u001b[90m━━━━━━━━━━━━━━━━━━━━━━━━━━━━━━━━━━━━━━━━\u001b[0m \u001b[32m142.7/142.7 kB\u001b[0m \u001b[31m15.3 MB/s\u001b[0m eta \u001b[36m0:00:00\u001b[0m\n",
            "\u001b[?25hInstalling collected packages: vit-pytorch\n",
            "Successfully installed vit-pytorch-1.11.7\n"
          ]
        }
      ],
      "source": [
        "! pip install vit-pytorch"
      ]
    },
    {
      "cell_type": "code",
      "source": [
        "import torch\n",
        "import torch.nn as nn\n",
        "import torch.nn.functional as F\n",
        "from vit_pytorch.simple_vit_3d import SimpleViT\n",
        "from vit_pytorch.simple_vit_3d import posemb_sincos_3d\n",
        "from einops import rearrange\n",
        "from PIL import Image as PILImage # Import PIL.Image with an alias\n",
        "import numpy as np\n",
        "import torch.optim as optim\n",
        "from torch.utils.data import DataLoader, TensorDataset\n",
        "import os\n",
        "import glob\n",
        "import time\n",
        "from IPython.display import Image, display, HTML # Keep IPython.display.Image for displaying\n",
        "\n",
        "device = torch.device(\"cuda\" if torch.cuda.is_available() else \"cpu\")"
      ],
      "metadata": {
        "id": "jaoYynsYsZs0"
      },
      "execution_count": 43,
      "outputs": []
    },
    {
      "cell_type": "markdown",
      "source": [
        "Decoder implementation is taken from the UNETR paper"
      ],
      "metadata": {
        "id": "d5YVNvd-SJh4"
      }
    },
    {
      "cell_type": "code",
      "source": [
        "#source code for these conv block implemenations is from this UNETR implementation: https://github.com/tamasino52/UNETR/blob/main/unetr.py#L231\n",
        "class SingleDeconv3DBlock(nn.Module):\n",
        "    def __init__(self, in_planes, out_planes):\n",
        "        super().__init__()\n",
        "        self.block = nn.ConvTranspose3d(in_planes, out_planes, kernel_size=2, stride=2, padding=0, output_padding=0)\n",
        "\n",
        "    def forward(self, x):\n",
        "        return self.block(x)\n",
        "\n",
        "\n",
        "class SingleConv3DBlock(nn.Module):\n",
        "    def __init__(self, in_planes, out_planes, kernel_size):\n",
        "        super().__init__()\n",
        "        self.block = nn.Conv3d(in_planes, out_planes, kernel_size=kernel_size, stride=1,\n",
        "                               padding=((kernel_size - 1) // 2))\n",
        "\n",
        "    def forward(self, x):\n",
        "        return self.block(x)\n",
        "\n",
        "\n",
        "class Conv3DBlock(nn.Module):\n",
        "    def __init__(self, in_planes, out_planes, kernel_size=3):\n",
        "        super().__init__()\n",
        "        self.block = nn.Sequential(\n",
        "            SingleConv3DBlock(in_planes, out_planes, kernel_size),\n",
        "            nn.BatchNorm3d(out_planes),\n",
        "            nn.ReLU(True)\n",
        "        )\n",
        "\n",
        "    def forward(self, x):\n",
        "        return self.block(x)\n",
        "\n",
        "\n",
        "class Deconv3DBlock(nn.Module):\n",
        "    def __init__(self, in_planes, out_planes, kernel_size=3):\n",
        "        super().__init__()\n",
        "        self.block = nn.Sequential(\n",
        "            SingleDeconv3DBlock(in_planes, out_planes),\n",
        "            SingleConv3DBlock(out_planes, out_planes, kernel_size),\n",
        "            nn.BatchNorm3d(out_planes),\n",
        "            nn.ReLU(True)\n",
        "        )\n",
        "\n",
        "    def forward(self, x):\n",
        "        return self.block(x)"
      ],
      "metadata": {
        "id": "bqBvmozAsuy5"
      },
      "execution_count": 4,
      "outputs": []
    },
    {
      "cell_type": "markdown",
      "source": [
        "###Segmentation Model Implementaiton\n",
        "\n",
        "I start off by using the simple_vit_3d as my encoder.\n",
        "\n",
        "To construct the full segmentation model with decoder, I create a child class based on the simple_vit_3d class. First we defined the 3D-CNN decoder structure in this new class, drawing inspiration from the PUP architecture in SETR. I then change the forward function so instead of passing embeddings to a linear classificaiton head, we re-arrange the embeddings to per-patch format, then pass through the decoder."
      ],
      "metadata": {
        "id": "lmIrgqRGSN4Q"
      }
    },
    {
      "cell_type": "code",
      "source": [
        "class SimpleViT3dSeg(SimpleViT):\n",
        "  #add decoder attributes for segmentation\n",
        "  def __init__(self, *args, **kwargs):\n",
        "    super().__init__(*args, **kwargs)\n",
        "\n",
        "    print(kwargs['dim'], kwargs['num_classes'])\n",
        "    #upsampling decoder, from patch size 8x8x8 to 128x128x128\n",
        "    self.decoder = nn.Sequential(\n",
        "      Deconv3DBlock(kwargs['dim'], 256),\n",
        "      Deconv3DBlock(256, 128),\n",
        "      Deconv3DBlock(128, 64),\n",
        "      nn.Conv3d(in_channels=64, out_channels=kwargs['num_classes'], kernel_size=1)\n",
        "    )\n",
        "\n",
        "  #override the forward function so embeddings get fed into decoder instead of linear classification head\n",
        "  def forward(self, video):\n",
        "        *_, h, w, dtype = *video.shape, video.dtype\n",
        "\n",
        "        x = self.to_patch_embedding(video)\n",
        "        #print(f\"patch shape: {x.shape}\")\n",
        "        _, depth_patch_size, height_patch_size, width_patch_size, _ = x.shape\n",
        "\n",
        "        pe = posemb_sincos_3d(x)\n",
        "        x = rearrange(x, 'b ... d -> b (...) d') + pe\n",
        "\n",
        "        x = self.transformer(x)\n",
        "        #print(f\"raw embeddings shape: {x.shape}\")\n",
        "        batch_size, patch_volume, embd_size = x.shape\n",
        "\n",
        "        #convert to per-patch embedding format for segmentation\n",
        "        #credit: code for re-arranging to per-patch format generated from chatgpt\n",
        "        feat_grid_embeddings = x.transpose(1, 2).contiguous().view(batch_size, embd_size, depth_patch_size, height_patch_size, width_patch_size)\n",
        "        #print(f\"per-patch embedding dim: {feat_grid_embeddings.shape}\")\n",
        "\n",
        "        #x = x.mean(dim = 1) #don't apply pooling since we want the per-patch embedding\n",
        "        feat_grid_embeddings = self.to_latent(feat_grid_embeddings) #this is a palce holder, does nothing so we can keep it\n",
        "\n",
        "        logits = self.decoder(feat_grid_embeddings)\n",
        "        return logits\n",
        "\n",
        "  def logits_to_mask(self, logits):\n",
        "    return logits.argmax(dim=1)"
      ],
      "metadata": {
        "id": "raIJ8Zr5rshl"
      },
      "execution_count": 5,
      "outputs": []
    },
    {
      "cell_type": "code",
      "source": [
        "test_vit_seg_model = SimpleViT3dSeg(\n",
        "    image_size = 64,          # image size\n",
        "    frames = 64,               # for volumetric data: this is slice number/depth\n",
        "    image_patch_size = 8,     # image patch size\n",
        "    frame_patch_size = 8,      # for volumetric data: this should be same as image patch size\n",
        "    num_classes = 3,\n",
        "    dim = 1024,\n",
        "    depth = 6,\n",
        "    heads = 8,\n",
        "    mlp_dim = 2048,\n",
        ")\n",
        "\n",
        "test_input = torch.randn(1, 3, 64, 64, 64)\n",
        "\n",
        "preds = test_vit_seg_model(test_input)\n",
        "\n",
        "print(preds.shape, type(preds))"
      ],
      "metadata": {
        "colab": {
          "base_uri": "https://localhost:8080/"
        },
        "id": "uHtpFeiJy1r9",
        "outputId": "7401ca18-7a3d-49d7-ba29-b73532b7421a"
      },
      "execution_count": 6,
      "outputs": [
        {
          "output_type": "stream",
          "name": "stdout",
          "text": [
            "1024 3\n",
            "torch.Size([1, 3, 64, 64, 64]) <class 'torch.Tensor'>\n"
          ]
        }
      ]
    },
    {
      "cell_type": "markdown",
      "source": [
        "###Train/Test Data:\n",
        "\n",
        "I encountered some difficulty in sourcing volumetric segmentaiton data online. So I asked chatgpt to generate me a snippet of code that creates cubes with a spehere embedded inside, and a mask for both the cube and sphere.\n",
        "\n",
        "The model's objective is to learn how to segment both the cube and sphere."
      ],
      "metadata": {
        "id": "imw54_dSSzYV"
      }
    },
    {
      "cell_type": "code",
      "source": [
        "###chatgpt generated using prompt \"generate a simple function that generates a 3 channel white cube, inside it is a red sphere of varied position and radius\"\n",
        "\n",
        "def make_rgb_cube_with_red_sphere(T=64, H=64, W=64, cube_margin=8,\n",
        "                                  min_radius=4, device=\"cpu\"):\n",
        "    \"\"\"\n",
        "    Returns:\n",
        "      img:  (3, T, H, W) float32 in [0,1]\n",
        "      mask: (T, H, W)    long: 0=bg, 1=cube, 2=sphere\n",
        "    \"\"\"\n",
        "    # --- init ---\n",
        "    img  = torch.zeros(3, T, H, W, dtype=torch.float32, device=device)  # RGB\n",
        "    mask = torch.zeros(T, H, W, dtype=torch.long, device=device)        # seg labels\n",
        "\n",
        "    # --- define cube bounds (axis-aligned) ---\n",
        "    z0, z1 = cube_margin, T - cube_margin\n",
        "    y0, y1 = cube_margin, H - cube_margin\n",
        "    x0, x1 = cube_margin, W - cube_margin\n",
        "\n",
        "    # white cube\n",
        "    img[:, z0:z1, y0:y1, x0:x1] = 1.0\n",
        "    mask[  z0:z1, y0:y1, x0:x1] = 1\n",
        "\n",
        "    # --- random sphere INSIDE the cube ---\n",
        "    # max radius so sphere fits fully inside cube\n",
        "    max_r = min((z1 - z0), (y1 - y0), (x1 - x0)) // 3\n",
        "    r = int(torch.randint(min_radius, max( min_radius+1, max_r+1 ), ()).item())\n",
        "\n",
        "    cz = int(torch.randint(z0 + r, z1 - r, ()).item())\n",
        "    cy = int(torch.randint(y0 + r, y1 - r, ()).item())\n",
        "    cx = int(torch.randint(x0 + r, x1 - r, ()).item())\n",
        "\n",
        "    # build sphere mask\n",
        "    zz = torch.arange(T, device=device).view(T, 1, 1)\n",
        "    yy = torch.arange(H, device=device).view(1, H, 1)\n",
        "    xx = torch.arange(W, device=device).view(1, 1, W)\n",
        "    sphere = (zz - cz)**2 + (yy - cy)**2 + (xx - cx)**2 <= r^2\n",
        "\n",
        "    # paint sphere: red on top of cube\n",
        "    img[0][sphere] = 1.0   # R\n",
        "    img[1][sphere] = 0.0   # G\n",
        "    img[2][sphere] = 0.0   # B\n",
        "    mask[sphere]    = 2\n",
        "\n",
        "    return img.contiguous(), mask.contiguous()\n",
        "###\n",
        "\n",
        "###chatgpt generated using prompt \"generate a function to visualize the generated data and mask\"\n",
        "\n",
        "# tiny palette for mask coloring: 0..5\n",
        "_PALETTE = np.array([\n",
        "    [0,   0,   0],   # 0 bg\n",
        "    [255, 0,   0],   # 1 red\n",
        "    [0,   255, 0],   # 2 green\n",
        "    [0,   0,   255], # 3 blue\n",
        "    [255, 255, 0],   # 4 yellow\n",
        "    [255, 0,   255], # 5 magenta\n",
        "], dtype=np.uint8)\n",
        "\n",
        "\n",
        "def save_gif(vol, path=\"volume.gif\", duration=100, loop=0):\n",
        "    \"\"\"\n",
        "    vol:\n",
        "      - image RGB: (3, T, H, W), float in [0,1]\n",
        "      - mask:       (T, H, W),   int (class ids)\n",
        "    \"\"\"\n",
        "    frames = []\n",
        "\n",
        "    # --- mask case: (T,H,W) ints ---\n",
        "    if vol.ndim == 3 and vol.dtype in (torch.long, torch.int64, torch.int32):\n",
        "        T, H, W = vol.shape\n",
        "        m = vol.detach().cpu().numpy().astype(np.int64)\n",
        "        m = np.clip(m, 0, _PALETTE.shape[0]-1)\n",
        "        rgb = _PALETTE[m]  # (T,H,W,3)\n",
        "        for i in range(T):\n",
        "            frames.append(PILImage.fromarray(rgb[i], mode=\"RGB\")) # Use PILImage alias\n",
        "\n",
        "    # --- image case: (3,T,H,W) floats ---\n",
        "    elif vol.ndim == 4 and vol.shape[0] == 3:\n",
        "        _, T, _, _ = vol.shape\n",
        "        v = vol.detach().cpu().clamp(0, 1)\n",
        "        for i in range(T):\n",
        "            slice_rgb = (v[:, i].permute(1, 2, 0).numpy() * 255).astype(\"uint8\")\n",
        "            frames.append(PILImage.fromarray(slice_rgb, mode=\"RGB\")) # Use PILImage alias\n",
        "    else:\n",
        "        raise ValueError(f\"Unsupported shape/dtype for save_gif: {tuple(vol.shape)}, {vol.dtype}\")\n",
        "\n",
        "    frames[0].save(path, save_all=True, append_images=frames[1:], duration=duration, loop=loop)\n",
        "###"
      ],
      "metadata": {
        "id": "AL4qQdBf8aaG"
      },
      "execution_count": 44,
      "outputs": []
    },
    {
      "cell_type": "code",
      "source": [
        "#generate dataset\n",
        "train_img = []\n",
        "train_mask = []\n",
        "test_img = []\n",
        "test_mask = []\n",
        "save_train_limit = 10\n",
        "\n",
        "for i in range(100):\n",
        "  img, mask = make_rgb_cube_with_red_sphere(device=\"cuda\")\n",
        "  train_img.append(img)\n",
        "  train_mask.append(mask)\n",
        "  if i < save_train_limit:\n",
        "    save_gif(img, f\"train_img{i}.gif\")\n",
        "    save_gif(mask, f\"train_mask{i}.gif\")\n",
        "\n",
        "for i in range(30):\n",
        "  img, mask = make_rgb_cube_with_red_sphere(device=\"cuda\")\n",
        "  test_img.append(img)\n",
        "  test_mask.append(mask)\n",
        "\n",
        "train_loader = DataLoader(TensorDataset(torch.stack(train_img), torch.stack(train_mask)), batch_size=8, shuffle=True)\n",
        "test_loader = DataLoader(TensorDataset(torch.stack(test_img), torch.stack(test_mask)), batch_size=8, shuffle=True)"
      ],
      "metadata": {
        "colab": {
          "base_uri": "https://localhost:8080/"
        },
        "id": "IiaPUJ-g_Rto",
        "outputId": "94b0f8b5-426d-4dde-84a8-4c390b736234"
      },
      "execution_count": 45,
      "outputs": [
        {
          "output_type": "stream",
          "name": "stderr",
          "text": [
            "/tmp/ipython-input-2437430739.py:83: DeprecationWarning: 'mode' parameter is deprecated and will be removed in Pillow 13 (2026-10-15)\n",
            "  frames.append(PILImage.fromarray(slice_rgb, mode=\"RGB\")) # Use PILImage alias\n",
            "/tmp/ipython-input-2437430739.py:75: DeprecationWarning: 'mode' parameter is deprecated and will be removed in Pillow 13 (2026-10-15)\n",
            "  frames.append(PILImage.fromarray(rgb[i], mode=\"RGB\")) # Use PILImage alias\n"
          ]
        }
      ]
    },
    {
      "cell_type": "markdown",
      "source": [
        "Here is a visualization of some training data along with their masks that we generated. This is formatted as a gif that displays all 'slices' of the generated 3d object"
      ],
      "metadata": {
        "id": "B8O9WpnoTSqI"
      }
    },
    {
      "cell_type": "code",
      "source": [
        "#visualize saved train samples with mask\n",
        "train_gifs = sorted(glob.glob(\"train_img*.gif\"))\n",
        "train_mask_gifs = sorted(glob.glob(\"train_mask*.gif\"))\n",
        "\n",
        "for i in range(len(train_gifs)):\n",
        "  display(HTML(f\"<h4>train image {i}</h4>\"))\n",
        "  display(Image(filename=train_gifs[i]))\n",
        "  display(HTML(f\"<h4>train mask {i}</h4>\"))\n",
        "  display(Image(filename=train_mask_gifs[i]))"
      ],
      "metadata": {
        "colab": {
          "base_uri": "https://localhost:8080/",
          "height": 1000
        },
        "id": "ihnsH0UgA9ER",
        "outputId": "2e51d7fc-f33f-48a8-e3fa-10d5f0164dfd"
      },
      "execution_count": 46,
      "outputs": [
        {
          "output_type": "display_data",
          "data": {
            "text/plain": [
              "<IPython.core.display.HTML object>"
            ],
            "text/html": [
              "<h4>train image 0</h4>"
            ]
          },
          "metadata": {}
        },
        {
          "output_type": "display_data",
          "data": {
            "image/gif": "[encoded data removed]",
            "text/plain": [
              "<IPython.core.display.Image object>"
            ]
          },
          "metadata": {}
        },
        {
          "output_type": "display_data",
          "data": {
            "text/plain": [
              "<IPython.core.display.HTML object>"
            ],
            "text/html": [
              "<h4>train mask 0</h4>"
            ]
          },
          "metadata": {}
        },
        {
          "output_type": "display_data",
          "data": {
            "image/gif": "[encoded data removed]",
            "text/plain": [
              "<IPython.core.display.Image object>"
            ]
          },
          "metadata": {}
        },
        {
          "output_type": "display_data",
          "data": {
            "text/plain": [
              "<IPython.core.display.HTML object>"
            ],
            "text/html": [
              "<h4>train image 1</h4>"
            ]
          },
          "metadata": {}
        },
        {
          "output_type": "display_data",
          "data": {
            "image/gif": "[encoded data removed]",
            "text/plain": [
              "<IPython.core.display.Image object>"
            ]
          },
          "metadata": {}
        },
        {
          "output_type": "display_data",
          "data": {
            "text/plain": [
              "<IPython.core.display.HTML object>"
            ],
            "text/html": [
              "<h4>train mask 1</h4>"
            ]
          },
          "metadata": {}
        },
        {
          "output_type": "display_data",
          "data": {
            "image/gif": "[encoded data removed]",
            "text/plain": [
              "<IPython.core.display.Image object>"
            ]
          },
          "metadata": {}
        },
        {
          "output_type": "display_data",
          "data": {
            "text/plain": [
              "<IPython.core.display.HTML object>"
            ],
            "text/html": [
              "<h4>train image 2</h4>"
            ]
          },
          "metadata": {}
        },
        {
          "output_type": "display_data",
          "data": {
            "image/gif": "[encoded data removed]",
            "text/plain": [
              "<IPython.core.display.Image object>"
            ]
          },
          "metadata": {}
        },
        {
          "output_type": "display_data",
          "data": {
            "text/plain": [
              "<IPython.core.display.HTML object>"
            ],
            "text/html": [
              "<h4>train mask 2</h4>"
            ]
          },
          "metadata": {}
        },
        {
          "output_type": "display_data",
          "data": {
            "image/gif": "[encoded data removed]",
            "text/plain": [
              "<IPython.core.display.Image object>"
            ]
          },
          "metadata": {}
        },
        {
          "output_type": "display_data",
          "data": {
            "text/plain": [
              "<IPython.core.display.HTML object>"
            ],
            "text/html": [
              "<h4>train image 3</h4>"
            ]
          },
          "metadata": {}
        },
        {
          "output_type": "display_data",
          "data": {
            "image/gif": "[encoded data removed]",
            "text/plain": [
              "<IPython.core.display.Image object>"
            ]
          },
          "metadata": {}
        },
        {
          "output_type": "display_data",
          "data": {
            "text/plain": [
              "<IPython.core.display.HTML object>"
            ],
            "text/html": [
              "<h4>train mask 3</h4>"
            ]
          },
          "metadata": {}
        },
        {
          "output_type": "display_data",
          "data": {
            "image/gif": "[encoded data removed]",
            "text/plain": [
              "<IPython.core.display.Image object>"
            ]
          },
          "metadata": {}
        },
        {
          "output_type": "display_data",
          "data": {
            "text/plain": [
              "<IPython.core.display.HTML object>"
            ],
            "text/html": [
              "<h4>train image 4</h4>"
            ]
          },
          "metadata": {}
        },
        {
          "output_type": "display_data",
          "data": {
            "image/gif": "[encoded data removed]",
            "text/plain": [
              "<IPython.core.display.Image object>"
            ]
          },
          "metadata": {}
        },
        {
          "output_type": "display_data",
          "data": {
            "text/plain": [
              "<IPython.core.display.HTML object>"
            ],
            "text/html": [
              "<h4>train mask 4</h4>"
            ]
          },
          "metadata": {}
        },
        {
          "output_type": "display_data",
          "data": {
            "image/gif": "[encoded data removed]",
            "text/plain": [
              "<IPython.core.display.Image object>"
            ]
          },
          "metadata": {}
        },
        {
          "output_type": "display_data",
          "data": {
            "text/plain": [
              "<IPython.core.display.HTML object>"
            ],
            "text/html": [
              "<h4>train image 5</h4>"
            ]
          },
          "metadata": {}
        },
        {
          "output_type": "display_data",
          "data": {
            "image/gif": "[encoded data removed]",
            "text/plain": [
              "<IPython.core.display.Image object>"
            ]
          },
          "metadata": {}
        },
        {
          "output_type": "display_data",
          "data": {
            "text/plain": [
              "<IPython.core.display.HTML object>"
            ],
            "text/html": [
              "<h4>train mask 5</h4>"
            ]
          },
          "metadata": {}
        },
        {
          "output_type": "display_data",
          "data": {
            "image/gif": "[encoded data removed]",
            "text/plain": [
              "<IPython.core.display.Image object>"
            ]
          },
          "metadata": {}
        },
        {
          "output_type": "display_data",
          "data": {
            "text/plain": [
              "<IPython.core.display.HTML object>"
            ],
            "text/html": [
              "<h4>train image 6</h4>"
            ]
          },
          "metadata": {}
        },
        {
          "output_type": "display_data",
          "data": {
            "image/gif": "[encoded data removed]",
            "text/plain": [
              "<IPython.core.display.Image object>"
            ]
          },
          "metadata": {}
        },
        {
          "output_type": "display_data",
          "data": {
            "text/plain": [
              "<IPython.core.display.HTML object>"
            ],
            "text/html": [
              "<h4>train mask 6</h4>"
            ]
          },
          "metadata": {}
        },
        {
          "output_type": "display_data",
          "data": {
            "image/gif": "[encoded data removed]",
            "text/plain": [
              "<IPython.core.display.Image object>"
            ]
          },
          "metadata": {}
        },
        {
          "output_type": "display_data",
          "data": {
            "text/plain": [
              "<IPython.core.display.HTML object>"
            ],
            "text/html": [
              "<h4>train image 7</h4>"
            ]
          },
          "metadata": {}
        },
        {
          "output_type": "display_data",
          "data": {
            "image/gif": "[encoded data removed]",
            "text/plain": [
              "<IPython.core.display.Image object>"
            ]
          },
          "metadata": {}
        },
        {
          "output_type": "display_data",
          "data": {
            "text/plain": [
              "<IPython.core.display.HTML object>"
            ],
            "text/html": [
              "<h4>train mask 7</h4>"
            ]
          },
          "metadata": {}
        },
        {
          "output_type": "display_data",
          "data": {
            "image/gif": "[encoded data removed]",
            "text/plain": [
              "<IPython.core.display.Image object>"
            ]
          },
          "metadata": {}
        },
        {
          "output_type": "display_data",
          "data": {
            "text/plain": [
              "<IPython.core.display.HTML object>"
            ],
            "text/html": [
              "<h4>train image 8</h4>"
            ]
          },
          "metadata": {}
        },
        {
          "output_type": "display_data",
          "data": {
            "image/gif": "[encoded data removed]",
            "text/plain": [
              "<IPython.core.display.Image object>"
            ]
          },
          "metadata": {}
        },
        {
          "output_type": "display_data",
          "data": {
            "text/plain": [
              "<IPython.core.display.HTML object>"
            ],
            "text/html": [
              "<h4>train mask 8</h4>"
            ]
          },
          "metadata": {}
        },
        {
          "output_type": "display_data",
          "data": {
            "image/gif": "[encoded data removed]",
            "text/plain": [
              "<IPython.core.display.Image object>"
            ]
          },
          "metadata": {}
        },
        {
          "output_type": "display_data",
          "data": {
            "text/plain": [
              "<IPython.core.display.HTML object>"
            ],
            "text/html": [
              "<h4>train image 9</h4>"
            ]
          },
          "metadata": {}
        },
        {
          "output_type": "display_data",
          "data": {
            "image/gif": "[encoded data removed]",
            "text/plain": [
              "<IPython.core.display.Image object>"
            ]
          },
          "metadata": {}
        },
        {
          "output_type": "display_data",
          "data": {
            "text/plain": [
              "<IPython.core.display.HTML object>"
            ],
            "text/html": [
              "<h4>train mask 9</h4>"
            ]
          },
          "metadata": {}
        },
        {
          "output_type": "display_data",
          "data": {
            "image/gif": "[encoded data removed]",
            "text/plain": [
              "<IPython.core.display.Image object>"
            ]
          },
          "metadata": {}
        }
      ]
    },
    {
      "cell_type": "code",
      "source": [
        "vit_3d_seg = SimpleViT3dSeg(\n",
        "    image_size = 64,\n",
        "    frames = 64,\n",
        "    image_patch_size = 8,\n",
        "    frame_patch_size = 8,\n",
        "    num_classes = 3,\n",
        "    dim = 1024,\n",
        "    depth = 6,\n",
        "    heads = 8,\n",
        "    mlp_dim = 2048,\n",
        ")"
      ],
      "metadata": {
        "colab": {
          "base_uri": "https://localhost:8080/"
        },
        "id": "eDD_tdZqJLPl",
        "outputId": "3d5df835-abb3-4903-eb2c-3f8da689ea97"
      },
      "execution_count": 10,
      "outputs": [
        {
          "output_type": "stream",
          "name": "stdout",
          "text": [
            "1024 3\n"
          ]
        }
      ]
    },
    {
      "cell_type": "markdown",
      "source": [
        "We train the model on 100 epochs without pre-training"
      ],
      "metadata": {
        "id": "bPbWGLu9Tggp"
      }
    },
    {
      "cell_type": "code",
      "source": [
        "#training loop\n",
        "epochs = 100\n",
        "ce_loss = nn.CrossEntropyLoss()\n",
        "vit_3d_seg.to(device)\n",
        "optimizer = optim.Adam(vit_3d_seg.parameters(), lr=1e-3, weight_decay=1e-2)\n",
        "train_loss_list, test_loss_list = [], []\n",
        "\n",
        "best_test_loss = float('inf')\n",
        "early_stop_patience = 25\n",
        "early_stop_counter = 0\n",
        "total_elapsed_time = 0\n",
        "\n",
        "for ep in range(epochs):\n",
        "  vit_3d_seg.train()\n",
        "  train_loss = 0.0\n",
        "  ep_start_time = time.perf_counter()\n",
        "\n",
        "  for x, y in train_loader:\n",
        "    x, y = x.to(device), y.to(device)\n",
        "    optimizer.zero_grad()\n",
        "    logits = vit_3d_seg(x)\n",
        "    loss = ce_loss(logits, y)\n",
        "    loss.backward()\n",
        "    optimizer.step()\n",
        "    train_loss += loss.item()\n",
        "  train_loss = train_loss / len(train_loader)\n",
        "\n",
        "  #eval\n",
        "  vit_3d_seg.eval()\n",
        "  test_loss = 0.0\n",
        "  with torch.no_grad():\n",
        "    for x, y in test_loader:\n",
        "      x, y = x.to(device), y.to(device)\n",
        "      logits = vit_3d_seg(x)\n",
        "      loss = ce_loss(logits, y)\n",
        "      test_loss += loss.item()\n",
        "    test_loss = test_loss / len(test_loader)\n",
        "\n",
        "  if test_loss < best_test_loss:\n",
        "    best_test_loss = test_loss\n",
        "    early_stop_counter = 0\n",
        "\n",
        "    #before saving the new best weight, del all old ones\n",
        "    past_weights = glob.glob(f\"{vit_3d_seg.__class__.__name__}_best*\")\n",
        "    for file in past_weights:\n",
        "      os.remove(file)\n",
        "\n",
        "    torch.save(vit_3d_seg.state_dict(), f\"{vit_3d_seg.__class__.__name__}_best_{ep}ep.pth\")\n",
        "  else:\n",
        "    early_stop_counter += 1\n",
        "    if early_stop_counter >= early_stop_patience:\n",
        "      print(f\"Early stopping at epoch {ep}\")\n",
        "      break\n",
        "\n",
        "  train_loss_list.append(train_loss)\n",
        "  test_loss_list.append(test_loss)\n",
        "  ep_end_time = time.perf_counter()\n",
        "  ep_elapsed_time = ep_end_time - ep_start_time\n",
        "  total_elapsed_time += ep_elapsed_time\n",
        "  print(f\"epoch: {ep}, train loss: {train_loss:.4f}, test loss: {test_loss:.4f}, elapsed time: {ep_elapsed_time:.4f}\")\n",
        "\n",
        "\n",
        "print(f\"Total training time: {total_elapsed_time}\")"
      ],
      "metadata": {
        "colab": {
          "base_uri": "https://localhost:8080/"
        },
        "id": "w9uDVIbVz6qa",
        "outputId": "f7eb50d3-1ebc-4228-dfce-1fa47943469a"
      },
      "execution_count": 51,
      "outputs": [
        {
          "output_type": "stream",
          "name": "stdout",
          "text": [
            "1024 3\n",
            "epoch: 0, train loss: 0.5813, test loss: 9.1994, elapsed time: 16.9574\n",
            "epoch: 1, train loss: 0.2990, test loss: 1.4371, elapsed time: 17.2325\n",
            "epoch: 2, train loss: 0.2793, test loss: 1.1156, elapsed time: 16.9941\n",
            "epoch: 3, train loss: 0.1985, test loss: 2.4269, elapsed time: 16.5623\n",
            "epoch: 4, train loss: 0.1781, test loss: 1.7245, elapsed time: 16.5506\n",
            "epoch: 5, train loss: 0.1609, test loss: 1.4957, elapsed time: 16.6367\n",
            "epoch: 6, train loss: 0.1131, test loss: 2.0301, elapsed time: 16.7109\n",
            "epoch: 7, train loss: 0.0679, test loss: 2.2406, elapsed time: 16.6932\n",
            "epoch: 8, train loss: 0.0650, test loss: 2.2061, elapsed time: 16.6558\n",
            "epoch: 9, train loss: 0.0362, test loss: 2.1281, elapsed time: 16.6507\n",
            "epoch: 10, train loss: 0.0944, test loss: 0.6994, elapsed time: 16.9499\n",
            "epoch: 11, train loss: 0.0638, test loss: 0.1548, elapsed time: 16.8651\n",
            "epoch: 12, train loss: 0.0436, test loss: 0.3218, elapsed time: 16.5528\n",
            "epoch: 13, train loss: 0.0278, test loss: 1.7091, elapsed time: 16.6032\n",
            "epoch: 14, train loss: 0.0373, test loss: 1.7538, elapsed time: 16.5972\n",
            "epoch: 15, train loss: 0.3681, test loss: 42.3905, elapsed time: 16.6230\n",
            "epoch: 16, train loss: 0.3853, test loss: 7.6121, elapsed time: 16.6042\n",
            "epoch: 17, train loss: 0.2648, test loss: 0.6637, elapsed time: 16.6524\n",
            "epoch: 18, train loss: 0.2286, test loss: 2.0444, elapsed time: 16.6542\n",
            "epoch: 19, train loss: 0.1958, test loss: 2.2442, elapsed time: 16.6737\n",
            "epoch: 20, train loss: 0.1557, test loss: 2.2324, elapsed time: 16.6526\n",
            "epoch: 21, train loss: 0.1203, test loss: 2.1082, elapsed time: 16.6354\n",
            "epoch: 22, train loss: 0.0655, test loss: 1.8861, elapsed time: 16.6290\n",
            "epoch: 23, train loss: 0.0440, test loss: 1.8520, elapsed time: 16.6307\n",
            "epoch: 24, train loss: 0.0264, test loss: 2.0770, elapsed time: 16.6260\n",
            "epoch: 25, train loss: 0.0493, test loss: 0.2768, elapsed time: 16.6163\n",
            "epoch: 26, train loss: 0.1246, test loss: 1.5822, elapsed time: 16.6136\n",
            "epoch: 27, train loss: 0.0446, test loss: 0.0463, elapsed time: 17.1416\n",
            "epoch: 28, train loss: 0.0278, test loss: 0.7672, elapsed time: 16.6843\n",
            "epoch: 29, train loss: 0.0189, test loss: 2.1705, elapsed time: 16.6397\n",
            "epoch: 30, train loss: 0.0161, test loss: 1.5157, elapsed time: 16.5746\n",
            "epoch: 31, train loss: 0.0177, test loss: 1.5215, elapsed time: 16.5707\n",
            "epoch: 32, train loss: 0.2469, test loss: 24.2098, elapsed time: 16.5991\n",
            "epoch: 33, train loss: 0.2011, test loss: 4.1252, elapsed time: 16.6380\n",
            "epoch: 34, train loss: 0.1148, test loss: 0.2887, elapsed time: 16.6571\n",
            "epoch: 35, train loss: 0.0660, test loss: 1.8593, elapsed time: 16.6672\n",
            "epoch: 36, train loss: 0.0681, test loss: 1.8767, elapsed time: 16.6387\n",
            "epoch: 37, train loss: 0.0349, test loss: 2.3005, elapsed time: 16.6285\n",
            "epoch: 38, train loss: 0.0308, test loss: 2.1724, elapsed time: 16.5842\n",
            "epoch: 39, train loss: 0.0236, test loss: 1.9839, elapsed time: 16.5765\n",
            "epoch: 40, train loss: 0.0339, test loss: 1.7753, elapsed time: 16.6182\n",
            "epoch: 41, train loss: 0.1444, test loss: 0.3339, elapsed time: 16.6039\n",
            "epoch: 42, train loss: 0.0514, test loss: 0.0298, elapsed time: 16.8920\n",
            "epoch: 43, train loss: 0.0323, test loss: 1.8179, elapsed time: 16.5896\n",
            "epoch: 44, train loss: 0.0320, test loss: 1.4631, elapsed time: 16.6234\n",
            "epoch: 45, train loss: 0.0277, test loss: 1.8884, elapsed time: 16.6274\n",
            "epoch: 46, train loss: 0.0184, test loss: 1.7816, elapsed time: 16.6245\n",
            "epoch: 47, train loss: 0.0203, test loss: 0.2120, elapsed time: 16.6103\n",
            "epoch: 48, train loss: 0.0220, test loss: 0.3102, elapsed time: 16.5959\n",
            "epoch: 49, train loss: 0.0222, test loss: 0.0549, elapsed time: 16.5950\n",
            "epoch: 50, train loss: 0.7162, test loss: 39.4636, elapsed time: 16.5881\n",
            "epoch: 51, train loss: 0.3406, test loss: 0.4074, elapsed time: 16.5915\n",
            "epoch: 52, train loss: 0.2695, test loss: 1.4633, elapsed time: 16.6247\n",
            "epoch: 53, train loss: 0.2335, test loss: 1.4855, elapsed time: 16.6375\n",
            "epoch: 54, train loss: 0.2091, test loss: 1.1943, elapsed time: 16.6415\n",
            "epoch: 55, train loss: 0.1575, test loss: 1.4439, elapsed time: 16.6400\n",
            "epoch: 56, train loss: 0.0910, test loss: 1.6858, elapsed time: 16.6484\n",
            "epoch: 57, train loss: 0.0450, test loss: 2.0547, elapsed time: 16.6541\n",
            "epoch: 58, train loss: 0.0277, test loss: 2.0121, elapsed time: 16.6342\n",
            "epoch: 59, train loss: 0.0350, test loss: 1.3075, elapsed time: 16.6137\n",
            "epoch: 60, train loss: 0.0933, test loss: 1.2622, elapsed time: 16.6142\n",
            "epoch: 61, train loss: 0.0968, test loss: 1.3235, elapsed time: 16.5965\n",
            "epoch: 62, train loss: 0.0413, test loss: 0.0878, elapsed time: 16.5853\n",
            "epoch: 63, train loss: 0.0362, test loss: 1.2427, elapsed time: 16.5928\n",
            "epoch: 64, train loss: 0.0281, test loss: 2.0297, elapsed time: 16.6178\n",
            "epoch: 65, train loss: 0.0248, test loss: 1.8984, elapsed time: 16.6133\n",
            "epoch: 66, train loss: 0.0216, test loss: 1.8644, elapsed time: 16.6376\n",
            "Early stopping at epoch 67\n",
            "Total training time: 1116.335314544991\n"
          ]
        }
      ]
    },
    {
      "cell_type": "code",
      "source": [
        "#plot train val loss\n",
        "import matplotlib.pyplot as plt\n",
        "\n",
        "plt.plot(train_loss_list, label='train loss')\n",
        "plt.plot(test_loss_list, label='test loss')\n",
        "plt.legend()\n",
        "plt.show()\n",
        "plt.title(\"Train and test cross entropy loss\")\n",
        "plt.xlabel(\"Epoch\")\n",
        "plt.ylabel(\"CE Loss\")"
      ],
      "metadata": {
        "colab": {
          "base_uri": "https://localhost:8080/",
          "height": 207
        },
        "id": "4_tF2qOkzG9t",
        "outputId": "2c80221a-fa50-45f7-b756-9717cfb43815"
      },
      "execution_count": 47,
      "outputs": [
        {
          "output_type": "error",
          "ename": "NameError",
          "evalue": "name 'train_loss_list' is not defined",
          "traceback": [
            "\u001b[0;31m---------------------------------------------------------------------------\u001b[0m",
            "\u001b[0;31mNameError\u001b[0m                                 Traceback (most recent call last)",
            "\u001b[0;32m/tmp/ipython-input-2346112551.py\u001b[0m in \u001b[0;36m<cell line: 0>\u001b[0;34m()\u001b[0m\n\u001b[1;32m      2\u001b[0m \u001b[0;32mimport\u001b[0m \u001b[0mmatplotlib\u001b[0m\u001b[0;34m.\u001b[0m\u001b[0mpyplot\u001b[0m \u001b[0;32mas\u001b[0m \u001b[0mplt\u001b[0m\u001b[0;34m\u001b[0m\u001b[0;34m\u001b[0m\u001b[0m\n\u001b[1;32m      3\u001b[0m \u001b[0;34m\u001b[0m\u001b[0m\n\u001b[0;32m----> 4\u001b[0;31m \u001b[0mplt\u001b[0m\u001b[0;34m.\u001b[0m\u001b[0mplot\u001b[0m\u001b[0;34m(\u001b[0m\u001b[0mtrain_loss_list\u001b[0m\u001b[0;34m,\u001b[0m \u001b[0mlabel\u001b[0m\u001b[0;34m=\u001b[0m\u001b[0;34m'train loss'\u001b[0m\u001b[0;34m)\u001b[0m\u001b[0;34m\u001b[0m\u001b[0;34m\u001b[0m\u001b[0m\n\u001b[0m\u001b[1;32m      5\u001b[0m \u001b[0mplt\u001b[0m\u001b[0;34m.\u001b[0m\u001b[0mplot\u001b[0m\u001b[0;34m(\u001b[0m\u001b[0mtest_loss_list\u001b[0m\u001b[0;34m,\u001b[0m \u001b[0mlabel\u001b[0m\u001b[0;34m=\u001b[0m\u001b[0;34m'test loss'\u001b[0m\u001b[0;34m)\u001b[0m\u001b[0;34m\u001b[0m\u001b[0;34m\u001b[0m\u001b[0m\n\u001b[1;32m      6\u001b[0m \u001b[0mplt\u001b[0m\u001b[0;34m.\u001b[0m\u001b[0mlegend\u001b[0m\u001b[0;34m(\u001b[0m\u001b[0;34m)\u001b[0m\u001b[0;34m\u001b[0m\u001b[0;34m\u001b[0m\u001b[0m\n",
            "\u001b[0;31mNameError\u001b[0m: name 'train_loss_list' is not defined"
          ]
        }
      ]
    },
    {
      "cell_type": "code",
      "source": [
        "#visualize some predictions\n",
        "\n",
        "vit_3d_seg.load_state_dict(torch.load(\"/content/SimpleViT3dSeg_best_42ep.pth\"))\n",
        "vit_3d_seg.to(device)\n",
        "vit_3d_seg.eval()\n",
        "\n",
        "for i in range(len(test_img)):\n",
        "  img, mask = test_img[i], test_mask[i]\n",
        "  img = img.unsqueeze(0).to(device)\n",
        "  mask = mask.unsqueeze(0).to(device)\n",
        "  logits = vit_3d_seg(img)\n",
        "  pred_mask = vit_3d_seg.logits_to_mask(logits)\n",
        "  pred_mask, mask = pred_mask.squeeze(0), mask.squeeze(0)\n",
        "  save_gif(pred_mask, f\"pred_mask{i}.gif\")\n",
        "  save_gif(mask, f\"gt_mask{i}.gif\")"
      ],
      "metadata": {
        "colab": {
          "base_uri": "https://localhost:8080/"
        },
        "id": "I88HyoFMLfua",
        "outputId": "1e4118c9-1e5c-4cf4-ba8c-c674be99d44f"
      },
      "execution_count": 15,
      "outputs": [
        {
          "output_type": "stream",
          "name": "stderr",
          "text": [
            "/tmp/ipython-input-3545402226.py:76: DeprecationWarning: 'mode' parameter is deprecated and will be removed in Pillow 13 (2026-10-15)\n",
            "  frames.append(Image.fromarray(rgb[i], mode=\"RGB\"))\n"
          ]
        }
      ]
    },
    {
      "cell_type": "markdown",
      "source": [
        "###Results visualization\n",
        "\n",
        "Here the model's prediction and ground truth, visualized. Overall, it seems like the model is capable of capturing the general location of the cube and sphere. However, the segmentation of the sphere is quite noisy compared to the grouth truth."
      ],
      "metadata": {
        "id": "1iVcm2ynTwVX"
      }
    },
    {
      "cell_type": "code",
      "source": [
        "#displaying test set predictions\n",
        "pred_gifs = sorted(glob.glob(\"pred_mask*.gif\"))\n",
        "gt_gifs = sorted(glob.glob(\"gt_mask*.gif\"))\n",
        "\n",
        "for i in range(len(pred_gifs)):\n",
        "  display(HTML(f\"<h4>Prediction {i}</h4>\"))\n",
        "  display(Image(filename=pred_gifs[i]))\n",
        "  display(HTML(f\"<h4>GT {i}</h4>\"))\n",
        "  display(Image(filename=gt_gifs[i]))"
      ],
      "metadata": {
        "colab": {
          "base_uri": "https://localhost:8080/",
          "height": 1000
        },
        "id": "ZM7WRgNLa1sb",
        "outputId": "fe4e9d1d-044f-4b14-e676-59fe823e1230"
      },
      "execution_count": 30,
      "outputs": [
        {
          "output_type": "display_data",
          "data": {
            "text/plain": [
              "<IPython.core.display.HTML object>"
            ],
            "text/html": [
              "<h4>Prediction 0</h4>"
            ]
          },
          "metadata": {}
        },
        {
          "output_type": "display_data",
          "data": {
            "image/gif": "[encoded data removed]",
            "text/plain": [
              "<IPython.core.display.Image object>"
            ]
          },
          "metadata": {}
        },
        {
          "output_type": "display_data",
          "data": {
            "text/plain": [
              "<IPython.core.display.HTML object>"
            ],
            "text/html": [
              "<h4>GT 0</h4>"
            ]
          },
          "metadata": {}
        },
        {
          "output_type": "display_data",
          "data": {
            "image/gif": "[encoded data removed]",
            "text/plain": [
              "<IPython.core.display.Image object>"
            ]
          },
          "metadata": {}
        },
        {
          "output_type": "display_data",
          "data": {
            "text/plain": [
              "<IPython.core.display.HTML object>"
            ],
            "text/html": [
              "<h4>Prediction 1</h4>"
            ]
          },
          "metadata": {}
        },
        {
          "output_type": "display_data",
          "data": {
            "image/gif": "[encoded data removed]",
            "text/plain": [
              "<IPython.core.display.Image object>"
            ]
          },
          "metadata": {}
        },
        {
          "output_type": "display_data",
          "data": {
            "text/plain": [
              "<IPython.core.display.HTML object>"
            ],
            "text/html": [
              "<h4>GT 1</h4>"
            ]
          },
          "metadata": {}
        },
        {
          "output_type": "display_data",
          "data": {
            "image/gif": "[encoded data removed]",
            "text/plain": [
              "<IPython.core.display.Image object>"
            ]
          },
          "metadata": {}
        },
        {
          "output_type": "display_data",
          "data": {
            "text/plain": [
              "<IPython.core.display.HTML object>"
            ],
            "text/html": [
              "<h4>Prediction 2</h4>"
            ]
          },
          "metadata": {}
        },
        {
          "output_type": "display_data",
          "data": {
            "image/gif": "[encoded data removed]",
            "text/plain": [
              "<IPython.core.display.Image object>"
            ]
          },
          "metadata": {}
        },
        {
          "output_type": "display_data",
          "data": {
            "text/plain": [
              "<IPython.core.display.HTML object>"
            ],
            "text/html": [
              "<h4>GT 2</h4>"
            ]
          },
          "metadata": {}
        },
        {
          "output_type": "display_data",
          "data": {
            "image/gif": "[encoded data removed]",
            "text/plain": [
              "<IPython.core.display.Image object>"
            ]
          },
          "metadata": {}
        },
        {
          "output_type": "display_data",
          "data": {
            "text/plain": [
              "<IPython.core.display.HTML object>"
            ],
            "text/html": [
              "<h4>Prediction 3</h4>"
            ]
          },
          "metadata": {}
        },
        {
          "output_type": "display_data",
          "data": {
            "image/gif": "[encoded data removed]",
            "text/plain": [
              "<IPython.core.display.Image object>"
            ]
          },
          "metadata": {}
        },
        {
          "output_type": "display_data",
          "data": {
            "text/plain": [
              "<IPython.core.display.HTML object>"
            ],
            "text/html": [
              "<h4>GT 3</h4>"
            ]
          },
          "metadata": {}
        },
        {
          "output_type": "display_data",
          "data": {
            "image/gif": "[encoded data removed]",
            "text/plain": [
              "<IPython.core.display.Image object>"
            ]
          },
          "metadata": {}
        },
        {
          "output_type": "display_data",
          "data": {
            "text/plain": [
              "<IPython.core.display.HTML object>"
            ],
            "text/html": [
              "<h4>Prediction 4</h4>"
            ]
          },
          "metadata": {}
        },
        {
          "output_type": "display_data",
          "data": {
            "image/gif": "[encoded data removed]",
            "text/plain": [
              "<IPython.core.display.Image object>"
            ]
          },
          "metadata": {}
        },
        {
          "output_type": "display_data",
          "data": {
            "text/plain": [
              "<IPython.core.display.HTML object>"
            ],
            "text/html": [
              "<h4>GT 4</h4>"
            ]
          },
          "metadata": {}
        },
        {
          "output_type": "display_data",
          "data": {
            "image/gif": "[encoded data removed]",
            "text/plain": [
              "<IPython.core.display.Image object>"
            ]
          },
          "metadata": {}
        },
        {
          "output_type": "display_data",
          "data": {
            "text/plain": [
              "<IPython.core.display.HTML object>"
            ],
            "text/html": [
              "<h4>Prediction 5</h4>"
            ]
          },
          "metadata": {}
        },
        {
          "output_type": "display_data",
          "data": {
            "image/gif": "[encoded data removed]",
            "text/plain": [
              "<IPython.core.display.Image object>"
            ]
          },
          "metadata": {}
        },
        {
          "output_type": "display_data",
          "data": {
            "text/plain": [
              "<IPython.core.display.HTML object>"
            ],
            "text/html": [
              "<h4>GT 5</h4>"
            ]
          },
          "metadata": {}
        },
        {
          "output_type": "display_data",
          "data": {
            "image/gif": "[encoded data removed]",
            "text/plain": [
              "<IPython.core.display.Image object>"
            ]
          },
          "metadata": {}
        },
        {
          "output_type": "display_data",
          "data": {
            "text/plain": [
              "<IPython.core.display.HTML object>"
            ],
            "text/html": [
              "<h4>Prediction 6</h4>"
            ]
          },
          "metadata": {}
        },
        {
          "output_type": "display_data",
          "data": {
            "image/gif": "[encoded data removed]",
            "text/plain": [
              "<IPython.core.display.Image object>"
            ]
          },
          "metadata": {}
        },
        {
          "output_type": "display_data",
          "data": {
            "text/plain": [
              "<IPython.core.display.HTML object>"
            ],
            "text/html": [
              "<h4>GT 6</h4>"
            ]
          },
          "metadata": {}
        },
        {
          "output_type": "display_data",
          "data": {
            "image/gif": "[encoded data removed]",
            "text/plain": [
              "<IPython.core.display.Image object>"
            ]
          },
          "metadata": {}
        },
        {
          "output_type": "display_data",
          "data": {
            "text/plain": [
              "<IPython.core.display.HTML object>"
            ],
            "text/html": [
              "<h4>Prediction 7</h4>"
            ]
          },
          "metadata": {}
        },
        {
          "output_type": "display_data",
          "data": {
            "image/gif": "[encoded data removed]",
            "text/plain": [
              "<IPython.core.display.Image object>"
            ]
          },
          "metadata": {}
        },
        {
          "output_type": "display_data",
          "data": {
            "text/plain": [
              "<IPython.core.display.HTML object>"
            ],
            "text/html": [
              "<h4>GT 7</h4>"
            ]
          },
          "metadata": {}
        },
        {
          "output_type": "display_data",
          "data": {
            "image/gif": "[encoded data removed]",
            "text/plain": [
              "<IPython.core.display.Image object>"
            ]
          },
          "metadata": {}
        },
        {
          "output_type": "display_data",
          "data": {
            "text/plain": [
              "<IPython.core.display.HTML object>"
            ],
            "text/html": [
              "<h4>Prediction 8</h4>"
            ]
          },
          "metadata": {}
        },
        {
          "output_type": "display_data",
          "data": {
            "image/gif": "[encoded data removed]",
            "text/plain": [
              "<IPython.core.display.Image object>"
            ]
          },
          "metadata": {}
        },
        {
          "output_type": "display_data",
          "data": {
            "text/plain": [
              "<IPython.core.display.HTML object>"
            ],
            "text/html": [
              "<h4>GT 8</h4>"
            ]
          },
          "metadata": {}
        },
        {
          "output_type": "display_data",
          "data": {
            "image/gif": "[encoded data removed]",
            "text/plain": [
              "<IPython.core.display.Image object>"
            ]
          },
          "metadata": {}
        },
        {
          "output_type": "display_data",
          "data": {
            "text/plain": [
              "<IPython.core.display.HTML object>"
            ],
            "text/html": [
              "<h4>Prediction 9</h4>"
            ]
          },
          "metadata": {}
        },
        {
          "output_type": "display_data",
          "data": {
            "image/gif": "[encoded data removed]",
            "text/plain": [
              "<IPython.core.display.Image object>"
            ]
          },
          "metadata": {}
        },
        {
          "output_type": "display_data",
          "data": {
            "text/plain": [
              "<IPython.core.display.HTML object>"
            ],
            "text/html": [
              "<h4>GT 9</h4>"
            ]
          },
          "metadata": {}
        },
        {
          "output_type": "display_data",
          "data": {
            "image/gif": "[encoded data removed]",
            "text/plain": [
              "<IPython.core.display.Image object>"
            ]
          },
          "metadata": {}
        },
        {
          "output_type": "display_data",
          "data": {
            "text/plain": [
              "<IPython.core.display.HTML object>"
            ],
            "text/html": [
              "<h4>Prediction 10</h4>"
            ]
          },
          "metadata": {}
        },
        {
          "output_type": "display_data",
          "data": {
            "image/gif": "[encoded data removed]",
            "text/plain": [
              "<IPython.core.display.Image object>"
            ]
          },
          "metadata": {}
        },
        {
          "output_type": "display_data",
          "data": {
            "text/plain": [
              "<IPython.core.display.HTML object>"
            ],
            "text/html": [
              "<h4>GT 10</h4>"
            ]
          },
          "metadata": {}
        },
        {
          "output_type": "display_data",
          "data": {
            "image/gif": "[encoded data removed]",
            "text/plain": [
              "<IPython.core.display.Image object>"
            ]
          },
          "metadata": {}
        },
        {
          "output_type": "display_data",
          "data": {
            "text/plain": [
              "<IPython.core.display.HTML object>"
            ],
            "text/html": [
              "<h4>Prediction 11</h4>"
            ]
          },
          "metadata": {}
        },
        {
          "output_type": "display_data",
          "data": {
            "image/gif": "[encoded data removed]",
            "text/plain": [
              "<IPython.core.display.Image object>"
            ]
          },
          "metadata": {}
        },
        {
          "output_type": "display_data",
          "data": {
            "text/plain": [
              "<IPython.core.display.HTML object>"
            ],
            "text/html": [
              "<h4>GT 11</h4>"
            ]
          },
          "metadata": {}
        },
        {
          "output_type": "display_data",
          "data": {
            "image/gif": "[encoded data removed]",
            "text/plain": [
              "<IPython.core.display.Image object>"
            ]
          },
          "metadata": {}
        },
        {
          "output_type": "display_data",
          "data": {
            "text/plain": [
              "<IPython.core.display.HTML object>"
            ],
            "text/html": [
              "<h4>Prediction 12</h4>"
            ]
          },
          "metadata": {}
        },
        {
          "output_type": "display_data",
          "data": {
            "image/gif": "[encoded data removed]",
            "text/plain": [
              "<IPython.core.display.Image object>"
            ]
          },
          "metadata": {}
        },
        {
          "output_type": "display_data",
          "data": {
            "text/plain": [
              "<IPython.core.display.HTML object>"
            ],
            "text/html": [
              "<h4>GT 12</h4>"
            ]
          },
          "metadata": {}
        },
        {
          "output_type": "display_data",
          "data": {
            "image/gif": "[encoded data removed]",
            "text/plain": [
              "<IPython.core.display.Image object>"
            ]
          },
          "metadata": {}
        },
        {
          "output_type": "display_data",
          "data": {
            "text/plain": [
              "<IPython.core.display.HTML object>"
            ],
            "text/html": [
              "<h4>Prediction 13</h4>"
            ]
          },
          "metadata": {}
        },
        {
          "output_type": "display_data",
          "data": {
            "image/gif": "[encoded data removed]",
            "text/plain": [
              "<IPython.core.display.Image object>"
            ]
          },
          "metadata": {}
        },
        {
          "output_type": "display_data",
          "data": {
            "text/plain": [
              "<IPython.core.display.HTML object>"
            ],
            "text/html": [
              "<h4>GT 13</h4>"
            ]
          },
          "metadata": {}
        },
        {
          "output_type": "display_data",
          "data": {
            "image/gif": "[encoded data removed]",
            "text/plain": [
              "<IPython.core.display.Image object>"
            ]
          },
          "metadata": {}
        },
        {
          "output_type": "display_data",
          "data": {
            "text/plain": [
              "<IPython.core.display.HTML object>"
            ],
            "text/html": [
              "<h4>Prediction 14</h4>"
            ]
          },
          "metadata": {}
        },
        {
          "output_type": "display_data",
          "data": {
            "image/gif": "[encoded data removed]",
            "text/plain": [
              "<IPython.core.display.Image object>"
            ]
          },
          "metadata": {}
        },
        {
          "output_type": "display_data",
          "data": {
            "text/plain": [
              "<IPython.core.display.HTML object>"
            ],
            "text/html": [
              "<h4>GT 14</h4>"
            ]
          },
          "metadata": {}
        },
        {
          "output_type": "display_data",
          "data": {
            "image/gif": "[encoded data removed]",
            "text/plain": [
              "<IPython.core.display.Image object>"
            ]
          },
          "metadata": {}
        },
        {
          "output_type": "display_data",
          "data": {
            "text/plain": [
              "<IPython.core.display.HTML object>"
            ],
            "text/html": [
              "<h4>Prediction 15</h4>"
            ]
          },
          "metadata": {}
        },
        {
          "output_type": "display_data",
          "data": {
            "image/gif": "[encoded data removed]",
            "text/plain": [
              "<IPython.core.display.Image object>"
            ]
          },
          "metadata": {}
        },
        {
          "output_type": "display_data",
          "data": {
            "text/plain": [
              "<IPython.core.display.HTML object>"
            ],
            "text/html": [
              "<h4>GT 15</h4>"
            ]
          },
          "metadata": {}
        },
        {
          "output_type": "display_data",
          "data": {
            "image/gif": "[encoded data removed]",
            "text/plain": [
              "<IPython.core.display.Image object>"
            ]
          },
          "metadata": {}
        },
        {
          "output_type": "display_data",
          "data": {
            "text/plain": [
              "<IPython.core.display.HTML object>"
            ],
            "text/html": [
              "<h4>Prediction 16</h4>"
            ]
          },
          "metadata": {}
        },
        {
          "output_type": "display_data",
          "data": {
            "image/gif": "[encoded data removed]",
            "text/plain": [
              "<IPython.core.display.Image object>"
            ]
          },
          "metadata": {}
        },
        {
          "output_type": "display_data",
          "data": {
            "text/plain": [
              "<IPython.core.display.HTML object>"
            ],
            "text/html": [
              "<h4>GT 16</h4>"
            ]
          },
          "metadata": {}
        },
        {
          "output_type": "display_data",
          "data": {
            "image/gif": "[encoded data removed]",
            "text/plain": [
              "<IPython.core.display.Image object>"
            ]
          },
          "metadata": {}
        },
        {
          "output_type": "display_data",
          "data": {
            "text/plain": [
              "<IPython.core.display.HTML object>"
            ],
            "text/html": [
              "<h4>Prediction 17</h4>"
            ]
          },
          "metadata": {}
        },
        {
          "output_type": "display_data",
          "data": {
            "image/gif": "[encoded data removed]",
            "text/plain": [
              "<IPython.core.display.Image object>"
            ]
          },
          "metadata": {}
        },
        {
          "output_type": "display_data",
          "data": {
            "text/plain": [
              "<IPython.core.display.HTML object>"
            ],
            "text/html": [
              "<h4>GT 17</h4>"
            ]
          },
          "metadata": {}
        },
        {
          "output_type": "display_data",
          "data": {
            "image/gif": "[encoded data removed]",
            "text/plain": [
              "<IPython.core.display.Image object>"
            ]
          },
          "metadata": {}
        },
        {
          "output_type": "display_data",
          "data": {
            "text/plain": [
              "<IPython.core.display.HTML object>"
            ],
            "text/html": [
              "<h4>Prediction 18</h4>"
            ]
          },
          "metadata": {}
        },
        {
          "output_type": "display_data",
          "data": {
            "image/gif": "[encoded data removed]",
            "text/plain": [
              "<IPython.core.display.Image object>"
            ]
          },
          "metadata": {}
        },
        {
          "output_type": "display_data",
          "data": {
            "text/plain": [
              "<IPython.core.display.HTML object>"
            ],
            "text/html": [
              "<h4>GT 18</h4>"
            ]
          },
          "metadata": {}
        },
        {
          "output_type": "display_data",
          "data": {
            "image/gif": "[encoded data removed]",
            "text/plain": [
              "<IPython.core.display.Image object>"
            ]
          },
          "metadata": {}
        },
        {
          "output_type": "display_data",
          "data": {
            "text/plain": [
              "<IPython.core.display.HTML object>"
            ],
            "text/html": [
              "<h4>Prediction 19</h4>"
            ]
          },
          "metadata": {}
        },
        {
          "output_type": "display_data",
          "data": {
            "image/gif": "[encoded data removed]",
            "text/plain": [
              "<IPython.core.display.Image object>"
            ]
          },
          "metadata": {}
        },
        {
          "output_type": "display_data",
          "data": {
            "text/plain": [
              "<IPython.core.display.HTML object>"
            ],
            "text/html": [
              "<h4>GT 19</h4>"
            ]
          },
          "metadata": {}
        },
        {
          "output_type": "display_data",
          "data": {
            "image/gif": "[encoded data removed]",
            "text/plain": [
              "<IPython.core.display.Image object>"
            ]
          },
          "metadata": {}
        },
        {
          "output_type": "display_data",
          "data": {
            "text/plain": [
              "<IPython.core.display.HTML object>"
            ],
            "text/html": [
              "<h4>Prediction 20</h4>"
            ]
          },
          "metadata": {}
        },
        {
          "output_type": "display_data",
          "data": {
            "image/gif": "[encoded data removed]",
            "text/plain": [
              "<IPython.core.display.Image object>"
            ]
          },
          "metadata": {}
        },
        {
          "output_type": "display_data",
          "data": {
            "text/plain": [
              "<IPython.core.display.HTML object>"
            ],
            "text/html": [
              "<h4>GT 20</h4>"
            ]
          },
          "metadata": {}
        },
        {
          "output_type": "display_data",
          "data": {
            "image/gif": "[encoded data removed]",
            "text/plain": [
              "<IPython.core.display.Image object>"
            ]
          },
          "metadata": {}
        },
        {
          "output_type": "display_data",
          "data": {
            "text/plain": [
              "<IPython.core.display.HTML object>"
            ],
            "text/html": [
              "<h4>Prediction 21</h4>"
            ]
          },
          "metadata": {}
        },
        {
          "output_type": "display_data",
          "data": {
            "image/gif": "[encoded data removed]",
            "text/plain": [
              "<IPython.core.display.Image object>"
            ]
          },
          "metadata": {}
        },
        {
          "output_type": "display_data",
          "data": {
            "text/plain": [
              "<IPython.core.display.HTML object>"
            ],
            "text/html": [
              "<h4>GT 21</h4>"
            ]
          },
          "metadata": {}
        },
        {
          "output_type": "display_data",
          "data": {
            "image/gif": "[encoded data removed]",
            "text/plain": [
              "<IPython.core.display.Image object>"
            ]
          },
          "metadata": {}
        },
        {
          "output_type": "display_data",
          "data": {
            "text/plain": [
              "<IPython.core.display.HTML object>"
            ],
            "text/html": [
              "<h4>Prediction 22</h4>"
            ]
          },
          "metadata": {}
        },
        {
          "output_type": "display_data",
          "data": {
            "image/gif": "[encoded data removed]",
            "text/plain": [
              "<IPython.core.display.Image object>"
            ]
          },
          "metadata": {}
        },
        {
          "output_type": "display_data",
          "data": {
            "text/plain": [
              "<IPython.core.display.HTML object>"
            ],
            "text/html": [
              "<h4>GT 22</h4>"
            ]
          },
          "metadata": {}
        },
        {
          "output_type": "display_data",
          "data": {
            "image/gif": "[encoded data removed]",
            "text/plain": [
              "<IPython.core.display.Image object>"
            ]
          },
          "metadata": {}
        },
        {
          "output_type": "display_data",
          "data": {
            "text/plain": [
              "<IPython.core.display.HTML object>"
            ],
            "text/html": [
              "<h4>Prediction 23</h4>"
            ]
          },
          "metadata": {}
        },
        {
          "output_type": "display_data",
          "data": {
            "image/gif": "[encoded data removed]",
            "text/plain": [
              "<IPython.core.display.Image object>"
            ]
          },
          "metadata": {}
        },
        {
          "output_type": "display_data",
          "data": {
            "text/plain": [
              "<IPython.core.display.HTML object>"
            ],
            "text/html": [
              "<h4>GT 23</h4>"
            ]
          },
          "metadata": {}
        },
        {
          "output_type": "display_data",
          "data": {
            "image/gif": "[encoded data removed]",
            "text/plain": [
              "<IPython.core.display.Image object>"
            ]
          },
          "metadata": {}
        },
        {
          "output_type": "display_data",
          "data": {
            "text/plain": [
              "<IPython.core.display.HTML object>"
            ],
            "text/html": [
              "<h4>Prediction 24</h4>"
            ]
          },
          "metadata": {}
        },
        {
          "output_type": "display_data",
          "data": {
            "image/gif": "[encoded data removed]",
            "text/plain": [
              "<IPython.core.display.Image object>"
            ]
          },
          "metadata": {}
        },
        {
          "output_type": "display_data",
          "data": {
            "text/plain": [
              "<IPython.core.display.HTML object>"
            ],
            "text/html": [
              "<h4>GT 24</h4>"
            ]
          },
          "metadata": {}
        },
        {
          "output_type": "display_data",
          "data": {
            "image/gif": "[encoded data removed]",
            "text/plain": [
              "<IPython.core.display.Image object>"
            ]
          },
          "metadata": {}
        },
        {
          "output_type": "display_data",
          "data": {
            "text/plain": [
              "<IPython.core.display.HTML object>"
            ],
            "text/html": [
              "<h4>Prediction 25</h4>"
            ]
          },
          "metadata": {}
        },
        {
          "output_type": "display_data",
          "data": {
            "image/gif": "[encoded data removed]",
            "text/plain": [
              "<IPython.core.display.Image object>"
            ]
          },
          "metadata": {}
        },
        {
          "output_type": "display_data",
          "data": {
            "text/plain": [
              "<IPython.core.display.HTML object>"
            ],
            "text/html": [
              "<h4>GT 25</h4>"
            ]
          },
          "metadata": {}
        },
        {
          "output_type": "display_data",
          "data": {
            "image/gif": "[encoded data removed]",
            "text/plain": [
              "<IPython.core.display.Image object>"
            ]
          },
          "metadata": {}
        },
        {
          "output_type": "display_data",
          "data": {
            "text/plain": [
              "<IPython.core.display.HTML object>"
            ],
            "text/html": [
              "<h4>Prediction 26</h4>"
            ]
          },
          "metadata": {}
        },
        {
          "output_type": "display_data",
          "data": {
            "image/gif": "[encoded data removed]",
            "text/plain": [
              "<IPython.core.display.Image object>"
            ]
          },
          "metadata": {}
        },
        {
          "output_type": "display_data",
          "data": {
            "text/plain": [
              "<IPython.core.display.HTML object>"
            ],
            "text/html": [
              "<h4>GT 26</h4>"
            ]
          },
          "metadata": {}
        },
        {
          "output_type": "display_data",
          "data": {
            "image/gif": "[encoded data removed]",
            "text/plain": [
              "<IPython.core.display.Image object>"
            ]
          },
          "metadata": {}
        },
        {
          "output_type": "display_data",
          "data": {
            "text/plain": [
              "<IPython.core.display.HTML object>"
            ],
            "text/html": [
              "<h4>Prediction 27</h4>"
            ]
          },
          "metadata": {}
        },
        {
          "output_type": "display_data",
          "data": {
            "image/gif": "[encoded data removed]",
            "text/plain": [
              "<IPython.core.display.Image object>"
            ]
          },
          "metadata": {}
        },
        {
          "output_type": "display_data",
          "data": {
            "text/plain": [
              "<IPython.core.display.HTML object>"
            ],
            "text/html": [
              "<h4>GT 27</h4>"
            ]
          },
          "metadata": {}
        },
        {
          "output_type": "display_data",
          "data": {
            "image/gif": "[encoded data removed]",
            "text/plain": [
              "<IPython.core.display.Image object>"
            ]
          },
          "metadata": {}
        },
        {
          "output_type": "display_data",
          "data": {
            "text/plain": [
              "<IPython.core.display.HTML object>"
            ],
            "text/html": [
              "<h4>Prediction 28</h4>"
            ]
          },
          "metadata": {}
        },
        {
          "output_type": "display_data",
          "data": {
            "image/gif": "[encoded data removed]",
            "text/plain": [
              "<IPython.core.display.Image object>"
            ]
          },
          "metadata": {}
        },
        {
          "output_type": "display_data",
          "data": {
            "text/plain": [
              "<IPython.core.display.HTML object>"
            ],
            "text/html": [
              "<h4>GT 28</h4>"
            ]
          },
          "metadata": {}
        },
        {
          "output_type": "display_data",
          "data": {
            "image/gif": "[encoded data removed]",
            "text/plain": [
              "<IPython.core.display.Image object>"
            ]
          },
          "metadata": {}
        },
        {
          "output_type": "display_data",
          "data": {
            "text/plain": [
              "<IPython.core.display.HTML object>"
            ],
            "text/html": [
              "<h4>Prediction 29</h4>"
            ]
          },
          "metadata": {}
        },
        {
          "output_type": "display_data",
          "data": {
            "image/gif": "[encoded data removed]",
            "text/plain": [
              "<IPython.core.display.Image object>"
            ]
          },
          "metadata": {}
        },
        {
          "output_type": "display_data",
          "data": {
            "text/plain": [
              "<IPython.core.display.HTML object>"
            ],
            "text/html": [
              "<h4>GT 29</h4>"
            ]
          },
          "metadata": {}
        },
        {
          "output_type": "display_data",
          "data": {
            "image/gif": "[encoded data removed]",
            "text/plain": [
              "<IPython.core.display.Image object>"
            ]
          },
          "metadata": {}
        }
      ]
    },
    {
      "cell_type": "code",
      "source": [],
      "metadata": {
        "id": "nQvcZ-U7LBzJ"
      },
      "execution_count": null,
      "outputs": []
    }
  ]
}