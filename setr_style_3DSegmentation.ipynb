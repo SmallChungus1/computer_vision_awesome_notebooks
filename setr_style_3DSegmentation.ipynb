{
  "nbformat": 4,
  "nbformat_minor": 0,
  "metadata": {
    "colab": {
      "provenance": [],
      "gpuType": "T4",
      "authorship_tag": "ABX9TyPMW2Zs72WGlC/dcRepKQ1+"
    },
    "kernelspec": {
      "name": "python3",
      "display_name": "Python 3"
    },
    "language_info": {
      "name": "python"
    },
    "accelerator": "GPU"
  },
  "cells": [
    {
      "cell_type": "markdown",
      "source": [
        "# Extending concept of using ViT encoder from SeTR to 3D segmentation tasks\n",
        "## Summary: This notebook is a proof of concept that extends the use of ViT encoder in a 2D segmentation model like that presented in SeTR to 3D segementation by using a 3D ViT as encoder and 3D CNN-based decoder. I provided simple examples of the model trained to segmenet 3D cubes with a spehere inside.\n",
        "\n",
        "##relevant papers:\n",
        "\n",
        "*  SETR: https://arxiv.org/pdf/2012.15840\n",
        "*  UNETR: https://arxiv.org/pdf/2103.10504\n",
        "\n",
        "##source code referenced:\n",
        "* UNETR implementation: https://github.com/tamasino52/UNETR/blob/main/unetr.py#L231\n",
        "* ViT-Pytorch implementation: https://github.com/lucidrains/vit-pytorch/blob/main/vit_pytorch/simple_vit_3d.py#L114\n",
        "* Dice score implementaiton: https://medium.com/data-scientists-diary/implementation-of-dice-loss-vision-pytorch-7eef1e438f68\n",
        "###Name: Hanson Li\n",
        "\n",
        "Note: you'll need to run the training loop once to get the weights first, then you can run the subsequent cells that visualize the results.\n",
        "\n"
      ],
      "metadata": {
        "id": "gf4dCzZTRM8I"
      }
    },
    {
      "cell_type": "markdown",
      "source": [
        "Install vit-pytorch. We will be using their 3D ViT as the encoder"
      ],
      "metadata": {
        "id": "mGxrVUBSSCJh"
      }
    },
    {
      "cell_type": "code",
      "execution_count": 1,
      "metadata": {
        "colab": {
          "base_uri": "https://localhost:8080/"
        },
        "id": "e1cZB3t2qDXh",
        "outputId": "ff47fc94-8f53-418c-9161-6b378fd79d03"
      },
      "outputs": [
        {
          "output_type": "stream",
          "name": "stdout",
          "text": [
            "Requirement already satisfied: vit-pytorch in /usr/local/lib/python3.12/dist-packages (1.11.7)\n",
            "Requirement already satisfied: einops>=0.7.0 in /usr/local/lib/python3.12/dist-packages (from vit-pytorch) (0.8.1)\n",
            "Requirement already satisfied: torch>=1.10 in /usr/local/lib/python3.12/dist-packages (from vit-pytorch) (2.8.0+cu126)\n",
            "Requirement already satisfied: torchvision in /usr/local/lib/python3.12/dist-packages (from vit-pytorch) (0.23.0+cu126)\n",
            "Requirement already satisfied: filelock in /usr/local/lib/python3.12/dist-packages (from torch>=1.10->vit-pytorch) (3.19.1)\n",
            "Requirement already satisfied: typing-extensions>=4.10.0 in /usr/local/lib/python3.12/dist-packages (from torch>=1.10->vit-pytorch) (4.15.0)\n",
            "Requirement already satisfied: setuptools in /usr/local/lib/python3.12/dist-packages (from torch>=1.10->vit-pytorch) (75.2.0)\n",
            "Requirement already satisfied: sympy>=1.13.3 in /usr/local/lib/python3.12/dist-packages (from torch>=1.10->vit-pytorch) (1.13.3)\n",
            "Requirement already satisfied: networkx in /usr/local/lib/python3.12/dist-packages (from torch>=1.10->vit-pytorch) (3.5)\n",
            "Requirement already satisfied: jinja2 in /usr/local/lib/python3.12/dist-packages (from torch>=1.10->vit-pytorch) (3.1.6)\n",
            "Requirement already satisfied: fsspec in /usr/local/lib/python3.12/dist-packages (from torch>=1.10->vit-pytorch) (2025.3.0)\n",
            "Requirement already satisfied: nvidia-cuda-nvrtc-cu12==12.6.77 in /usr/local/lib/python3.12/dist-packages (from torch>=1.10->vit-pytorch) (12.6.77)\n",
            "Requirement already satisfied: nvidia-cuda-runtime-cu12==12.6.77 in /usr/local/lib/python3.12/dist-packages (from torch>=1.10->vit-pytorch) (12.6.77)\n",
            "Requirement already satisfied: nvidia-cuda-cupti-cu12==12.6.80 in /usr/local/lib/python3.12/dist-packages (from torch>=1.10->vit-pytorch) (12.6.80)\n",
            "Requirement already satisfied: nvidia-cudnn-cu12==9.10.2.21 in /usr/local/lib/python3.12/dist-packages (from torch>=1.10->vit-pytorch) (9.10.2.21)\n",
            "Requirement already satisfied: nvidia-cublas-cu12==12.6.4.1 in /usr/local/lib/python3.12/dist-packages (from torch>=1.10->vit-pytorch) (12.6.4.1)\n",
            "Requirement already satisfied: nvidia-cufft-cu12==11.3.0.4 in /usr/local/lib/python3.12/dist-packages (from torch>=1.10->vit-pytorch) (11.3.0.4)\n",
            "Requirement already satisfied: nvidia-curand-cu12==10.3.7.77 in /usr/local/lib/python3.12/dist-packages (from torch>=1.10->vit-pytorch) (10.3.7.77)\n",
            "Requirement already satisfied: nvidia-cusolver-cu12==11.7.1.2 in /usr/local/lib/python3.12/dist-packages (from torch>=1.10->vit-pytorch) (11.7.1.2)\n",
            "Requirement already satisfied: nvidia-cusparse-cu12==12.5.4.2 in /usr/local/lib/python3.12/dist-packages (from torch>=1.10->vit-pytorch) (12.5.4.2)\n",
            "Requirement already satisfied: nvidia-cusparselt-cu12==0.7.1 in /usr/local/lib/python3.12/dist-packages (from torch>=1.10->vit-pytorch) (0.7.1)\n",
            "Requirement already satisfied: nvidia-nccl-cu12==2.27.3 in /usr/local/lib/python3.12/dist-packages (from torch>=1.10->vit-pytorch) (2.27.3)\n",
            "Requirement already satisfied: nvidia-nvtx-cu12==12.6.77 in /usr/local/lib/python3.12/dist-packages (from torch>=1.10->vit-pytorch) (12.6.77)\n",
            "Requirement already satisfied: nvidia-nvjitlink-cu12==12.6.85 in /usr/local/lib/python3.12/dist-packages (from torch>=1.10->vit-pytorch) (12.6.85)\n",
            "Requirement already satisfied: nvidia-cufile-cu12==1.11.1.6 in /usr/local/lib/python3.12/dist-packages (from torch>=1.10->vit-pytorch) (1.11.1.6)\n",
            "Requirement already satisfied: triton==3.4.0 in /usr/local/lib/python3.12/dist-packages (from torch>=1.10->vit-pytorch) (3.4.0)\n",
            "Requirement already satisfied: numpy in /usr/local/lib/python3.12/dist-packages (from torchvision->vit-pytorch) (2.0.2)\n",
            "Requirement already satisfied: pillow!=8.3.*,>=5.3.0 in /usr/local/lib/python3.12/dist-packages (from torchvision->vit-pytorch) (11.3.0)\n",
            "Requirement already satisfied: mpmath<1.4,>=1.1.0 in /usr/local/lib/python3.12/dist-packages (from sympy>=1.13.3->torch>=1.10->vit-pytorch) (1.3.0)\n",
            "Requirement already satisfied: MarkupSafe>=2.0 in /usr/local/lib/python3.12/dist-packages (from jinja2->torch>=1.10->vit-pytorch) (3.0.2)\n"
          ]
        }
      ],
      "source": [
        "! pip install vit-pytorch"
      ]
    },
    {
      "cell_type": "code",
      "source": [
        "import torch\n",
        "import torch.nn as nn\n",
        "import torch.nn.functional as F\n",
        "from vit_pytorch.simple_vit_3d import SimpleViT\n",
        "from vit_pytorch.simple_vit_3d import posemb_sincos_3d, Transformer, pair, Attention, FeedForward\n",
        "from einops import rearrange\n",
        "from einops.layers.torch import Rearrange\n",
        "from PIL import Image as PILImage # Import PIL.Image with an alias\n",
        "import numpy as np\n",
        "import torch.optim as optim\n",
        "from torch.utils.data import DataLoader, TensorDataset\n",
        "import os\n",
        "import glob\n",
        "import time\n",
        "from IPython.display import Image, display, HTML # Keep IPython.display.Image for displaying\n",
        "import matplotlib.pyplot as plt\n",
        "\n",
        "device = 'cuda' if torch.cuda.is_available() else 'cpu'\n",
        "print(device)"
      ],
      "metadata": {
        "id": "jaoYynsYsZs0",
        "colab": {
          "base_uri": "https://localhost:8080/"
        },
        "outputId": "5a7abc52-0463-474d-c1cf-1dd67ccbde7c"
      },
      "execution_count": 2,
      "outputs": [
        {
          "output_type": "stream",
          "name": "stdout",
          "text": [
            "cuda\n"
          ]
        }
      ]
    },
    {
      "cell_type": "markdown",
      "source": [
        "Decoder implementation is taken from the UNETR paper"
      ],
      "metadata": {
        "id": "d5YVNvd-SJh4"
      }
    },
    {
      "cell_type": "code",
      "source": [
        "#source code for these conv block implemenations is from this UNETR implementation: https://github.com/tamasino52/UNETR/blob/main/unetr.py#L231\n",
        "class SingleDeconv3DBlock(nn.Module):\n",
        "    def __init__(self, in_planes, out_planes):\n",
        "        super().__init__()\n",
        "        self.block = nn.ConvTranspose3d(in_planes, out_planes, kernel_size=2, stride=2, padding=0, output_padding=0)\n",
        "\n",
        "    def forward(self, x):\n",
        "        return self.block(x)\n",
        "\n",
        "\n",
        "class SingleConv3DBlock(nn.Module):\n",
        "    def __init__(self, in_planes, out_planes, kernel_size):\n",
        "        super().__init__()\n",
        "        self.block = nn.Conv3d(in_planes, out_planes, kernel_size=kernel_size, stride=1,\n",
        "                               padding=((kernel_size - 1) // 2))\n",
        "\n",
        "    def forward(self, x):\n",
        "        return self.block(x)\n",
        "\n",
        "\n",
        "class Conv3DBlock(nn.Module):\n",
        "    def __init__(self, in_planes, out_planes, kernel_size=3):\n",
        "        super().__init__()\n",
        "        self.block = nn.Sequential(\n",
        "            SingleConv3DBlock(in_planes, out_planes, kernel_size),\n",
        "            nn.BatchNorm3d(out_planes),\n",
        "            nn.ReLU(True)\n",
        "        )\n",
        "\n",
        "    def forward(self, x):\n",
        "        return self.block(x)\n",
        "\n",
        "\n",
        "class Deconv3DBlock(nn.Module):\n",
        "    def __init__(self, in_planes, out_planes, kernel_size=3):\n",
        "        super().__init__()\n",
        "        self.block = nn.Sequential(\n",
        "            SingleDeconv3DBlock(in_planes, out_planes),\n",
        "            SingleConv3DBlock(out_planes, out_planes, kernel_size),\n",
        "            nn.BatchNorm3d(out_planes),\n",
        "            nn.ReLU(True)\n",
        "        )\n",
        "\n",
        "    def forward(self, x):\n",
        "        return self.block(x)"
      ],
      "metadata": {
        "id": "bqBvmozAsuy5"
      },
      "execution_count": 3,
      "outputs": []
    },
    {
      "cell_type": "markdown",
      "source": [
        "###Segmentation Model Implementaiton\n",
        "\n",
        "I start off by using the simple_vit_3d as my encoder.\n",
        "\n",
        "To construct the full segmentation model with decoder, I create a child class based on the simple_vit_3d class. First we defined the 3D-CNN decoder structure in this new class, drawing inspiration from the PUP architecture in SETR. I then change the forward function so instead of passing embeddings to a linear classificaiton head, we re-arrange the embeddings to per-patch format, then pass through the decoder to get the logits mask."
      ],
      "metadata": {
        "id": "lmIrgqRGSN4Q"
      }
    },
    {
      "cell_type": "code",
      "source": [
        "class SimpleViT3dSeg(SimpleViT):\n",
        "  #add decoder attributes for segmentation\n",
        "  def __init__(self, *args, **kwargs):\n",
        "    super().__init__(*args, **kwargs)\n",
        "\n",
        "    print(kwargs['dim'], kwargs['num_classes'])\n",
        "    #upsampling decoder, from patch size 8x8x8 to 128x128x128\n",
        "    self.decoder = nn.Sequential(\n",
        "      Deconv3DBlock(kwargs['dim'], 256),\n",
        "      Deconv3DBlock(256, 128),\n",
        "      Deconv3DBlock(128, 64),\n",
        "      nn.Conv3d(in_channels=64, out_channels=kwargs['num_classes'], kernel_size=1)\n",
        "    )\n",
        "\n",
        "  #override the forward function so embeddings get fed into decoder instead of linear classification head\n",
        "  def forward(self, video):\n",
        "        *_, h, w, dtype = *video.shape, video.dtype\n",
        "\n",
        "        x = self.to_patch_embedding(video)\n",
        "        #print(f\"patch shape: {x.shape}\")\n",
        "        _, depth_patch_size, height_patch_size, width_patch_size, _ = x.shape\n",
        "\n",
        "        pe = posemb_sincos_3d(x)\n",
        "        x = rearrange(x, 'b ... d -> b (...) d') + pe\n",
        "\n",
        "        x = self.transformer(x)\n",
        "        #print(f\"raw embeddings shape: {x.shape}\")\n",
        "        batch_size, patch_volume, embd_size = x.shape\n",
        "\n",
        "        #convert to per-patch embedding format for segmentation\n",
        "        ####credit: code for re-arranging to per-patch format generated from chatgpt\n",
        "        feat_grid_embeddings = x.transpose(1, 2).contiguous().view(batch_size, embd_size, depth_patch_size, height_patch_size, width_patch_size)\n",
        "        ###\n",
        "        #print(f\"per-patch embedding dim: {feat_grid_embeddings.shape}\")\n",
        "\n",
        "        #x = x.mean(dim = 1) #don't apply pooling since we want the per-patch embedding\n",
        "        feat_grid_embeddings = self.to_latent(feat_grid_embeddings) #this is a palce holder, does nothing so we can keep it\n",
        "\n",
        "        logits = self.decoder(feat_grid_embeddings)\n",
        "        return logits\n",
        "\n",
        "  def logits_to_mask(self, logits):\n",
        "    return logits.argmax(dim=1)"
      ],
      "metadata": {
        "id": "raIJ8Zr5rshl"
      },
      "execution_count": 4,
      "outputs": []
    },
    {
      "cell_type": "code",
      "source": [
        "test_vit_seg_model = SimpleViT3dSeg(\n",
        "    image_size = 64,          # image size\n",
        "    frames = 64,               # for volumetric data: this is slice number/depth\n",
        "    image_patch_size = 8,     # image patch size\n",
        "    frame_patch_size = 8,      # for volumetric data: this should be same as image patch size\n",
        "    num_classes = 3,\n",
        "    dim = 1024,\n",
        "    depth = 6,\n",
        "    heads = 8,\n",
        "    mlp_dim = 2048,\n",
        ")\n",
        "\n",
        "test_input = torch.randn(1, 3, 64, 64, 64)\n",
        "\n",
        "preds = test_vit_seg_model(test_input)\n",
        "\n",
        "print(preds.shape, type(preds))\n"
      ],
      "metadata": {
        "colab": {
          "base_uri": "https://localhost:8080/"
        },
        "id": "uHtpFeiJy1r9",
        "outputId": "ed51d79d-4fa5-45eb-f399-d532af4d5c19"
      },
      "execution_count": 5,
      "outputs": [
        {
          "output_type": "stream",
          "name": "stdout",
          "text": [
            "1024 3\n",
            "torch.Size([1, 3, 64, 64, 64]) <class 'torch.Tensor'>\n"
          ]
        }
      ]
    },
    {
      "cell_type": "markdown",
      "source": [
        "###Train/Test Data:\n",
        "\n",
        "I encountered some difficulty in sourcing volumetric segmentaiton data online. So I asked chatgpt to generate me a snippet of code that creates cubes with a spehere embedded inside, and a mask for both the cube and sphere.\n",
        "\n",
        "The model's objective is to learn how to segment both the cube and sphere."
      ],
      "metadata": {
        "id": "imw54_dSSzYV"
      }
    },
    {
      "cell_type": "code",
      "source": [
        "###chatgpt generated using prompt \"generate a simple function that generates a 3 channel white cube, inside it is a red sphere of varied position and radius\"\n",
        "\n",
        "def make_rgb_cube_with_red_sphere(\n",
        "    T=64, H=64, W=64, cube_margin=8,\n",
        "    min_radius=4, max_radius=None, device=\"cpu\"\n",
        "):\n",
        "    \"\"\"\n",
        "    Returns:\n",
        "      img:  (3, T, H, W) float32 in [0,1]\n",
        "      mask: (T, H, W)    long: 0=bg, 1=cube, 2=sphere\n",
        "    \"\"\"\n",
        "    # --- init ---\n",
        "    img  = torch.zeros(3, T, H, W, dtype=torch.float32, device=device)  # RGB\n",
        "    mask = torch.zeros(T, H, W, dtype=torch.long, device=device)        # seg labels\n",
        "\n",
        "    # --- define cube bounds (axis-aligned) ---\n",
        "    z0, z1 = cube_margin, T - cube_margin\n",
        "    y0, y1 = cube_margin, H - cube_margin\n",
        "    x0, x1 = cube_margin, W - cube_margin\n",
        "\n",
        "    # white cube\n",
        "    img[:, z0:z1, y0:y1, x0:x1] = 1.0\n",
        "    mask[  z0:z1, y0:y1, x0:x1] = 1\n",
        "\n",
        "    # --- sphere radius that fully fits ---\n",
        "    # interior spans\n",
        "    dz, dy, dx = (z1 - z0), (y1 - y0), (x1 - x0)\n",
        "    hard_max_r = min(dz, dy, dx) // 2  # largest r that still fits\n",
        "    if max_radius is None:\n",
        "        max_radius = hard_max_r\n",
        "    else:\n",
        "        max_radius = min(max_radius, hard_max_r)\n",
        "\n",
        "\n",
        "    r = int(torch.randint(min_radius, max_radius + 1, ()).item())\n",
        "\n",
        "    # sample center so sphere stays inside cube\n",
        "    cz = int(torch.randint(z0 + r, z1 - r + 1, ()).item())\n",
        "    cy = int(torch.randint(y0 + r, y1 - r + 1, ()).item())\n",
        "    cx = int(torch.randint(x0 + r, x1 - r + 1, ()).item())\n",
        "\n",
        "    # --- build sphere mask (use **2, not ^2) ---\n",
        "    zz = torch.arange(T, device=device).view(T, 1, 1)\n",
        "    yy = torch.arange(H, device=device).view(1, H, 1)\n",
        "    xx = torch.arange(W, device=device).view(1, 1, W)\n",
        "    sphere = (zz - cz)**2 + (yy - cy)**2 + (xx - cx)**2 <= r**2\n",
        "\n",
        "    # paint sphere: red on top of cube\n",
        "    img[0][sphere] = 1.0   # R\n",
        "    img[1][sphere] = 0.0   # G\n",
        "    img[2][sphere] = 0.0   # B\n",
        "    mask[sphere]    = 2\n",
        "\n",
        "    return img.contiguous(), mask.contiguous()\n",
        "###\n",
        "\n",
        "###chatgpt generated using prompt \"generate a function to visualize the generated data and mask\"\n",
        "\n",
        "# tiny palette for mask coloring: 0..5\n",
        "_PALETTE = np.array([\n",
        "    [0,   0,   0],   # 0 bg\n",
        "    [255, 0,   0],   # 1 red\n",
        "    [0,   255, 0],   # 2 green\n",
        "    [0,   0,   255], # 3 blue\n",
        "    [255, 255, 0],   # 4 yellow\n",
        "    [255, 0,   255], # 5 magenta\n",
        "], dtype=np.uint8)\n",
        "\n",
        "\n",
        "def save_gif(vol, path=\"volume.gif\", duration=100, loop=0):\n",
        "    \"\"\"\n",
        "    vol:\n",
        "      - image RGB: (3, T, H, W), float in [0,1]\n",
        "      - mask:       (T, H, W),   int (class ids)\n",
        "    \"\"\"\n",
        "    frames = []\n",
        "\n",
        "    # --- mask case: (T,H,W) ints ---\n",
        "    if vol.ndim == 3 and vol.dtype in (torch.long, torch.int64, torch.int32):\n",
        "        T, H, W = vol.shape\n",
        "        m = vol.detach().cpu().numpy().astype(np.int64)\n",
        "        m = np.clip(m, 0, _PALETTE.shape[0]-1)\n",
        "        rgb = _PALETTE[m]  # (T,H,W,3)\n",
        "        for i in range(T):\n",
        "            frames.append(PILImage.fromarray(rgb[i], mode=\"RGB\")) # Use PILImage alias\n",
        "\n",
        "    # --- image case: (3,T,H,W) floats ---\n",
        "    elif vol.ndim == 4 and vol.shape[0] == 3:\n",
        "        _, T, _, _ = vol.shape\n",
        "        v = vol.detach().cpu().clamp(0, 1)\n",
        "        for i in range(T):\n",
        "            slice_rgb = (v[:, i].permute(1, 2, 0).numpy() * 255).astype(\"uint8\")\n",
        "            frames.append(PILImage.fromarray(slice_rgb, mode=\"RGB\")) # Use PILImage alias\n",
        "    else:\n",
        "        raise ValueError(f\"Unsupported shape/dtype for save_gif: {tuple(vol.shape)}, {vol.dtype}\")\n",
        "\n",
        "    frames[0].save(path, save_all=True, append_images=frames[1:], duration=duration, loop=loop)\n",
        "###"
      ],
      "metadata": {
        "id": "AL4qQdBf8aaG"
      },
      "execution_count": 6,
      "outputs": []
    },
    {
      "cell_type": "code",
      "source": [
        "#generate dataset\n",
        "train_img = []\n",
        "train_mask = []\n",
        "test_img = []\n",
        "test_mask = []\n",
        "save_train_limit = 10\n",
        "\n",
        "for i in range(100):\n",
        "  img, mask = make_rgb_cube_with_red_sphere(device=\"cuda\", min_radius=10)\n",
        "  train_img.append(img)\n",
        "  train_mask.append(mask)\n",
        "  if i < save_train_limit:\n",
        "    save_gif(img, f\"train_img{i}.gif\")\n",
        "    save_gif(mask, f\"train_mask{i}.gif\")\n",
        "\n",
        "for i in range(30):\n",
        "  img, mask = make_rgb_cube_with_red_sphere(device=\"cuda\", min_radius=10)\n",
        "  test_img.append(img)\n",
        "  test_mask.append(mask)\n",
        "\n",
        "train_loader = DataLoader(TensorDataset(torch.stack(train_img), torch.stack(train_mask)), batch_size=16, shuffle=True)\n",
        "test_loader = DataLoader(TensorDataset(torch.stack(test_img), torch.stack(test_mask)), batch_size=8, shuffle=True)"
      ],
      "metadata": {
        "colab": {
          "base_uri": "https://localhost:8080/"
        },
        "id": "IiaPUJ-g_Rto",
        "outputId": "6ee10719-cb03-4399-8395-becdec045993"
      },
      "execution_count": 7,
      "outputs": [
        {
          "output_type": "stream",
          "name": "stderr",
          "text": [
            "/tmp/ipython-input-2305867771.py:93: DeprecationWarning: 'mode' parameter is deprecated and will be removed in Pillow 13 (2026-10-15)\n",
            "  frames.append(PILImage.fromarray(slice_rgb, mode=\"RGB\")) # Use PILImage alias\n",
            "/tmp/ipython-input-2305867771.py:85: DeprecationWarning: 'mode' parameter is deprecated and will be removed in Pillow 13 (2026-10-15)\n",
            "  frames.append(PILImage.fromarray(rgb[i], mode=\"RGB\")) # Use PILImage alias\n"
          ]
        }
      ]
    },
    {
      "cell_type": "markdown",
      "source": [
        "Here is a visualization of some training data along with their masks that we generated. This is formatted as a gif that displays all 'slices' of the generated 3d object"
      ],
      "metadata": {
        "id": "B8O9WpnoTSqI"
      }
    },
    {
      "cell_type": "code",
      "source": [
        "#visualize saved train samples with mask\n",
        "train_gifs = sorted(glob.glob(\"train_img*.gif\"))\n",
        "train_mask_gifs = sorted(glob.glob(\"train_mask*.gif\"))\n",
        "\n",
        "for i in range(len(train_gifs)):\n",
        "  display(HTML(f\"<h4>train image {i}</h4>\"))\n",
        "  display(Image(filename=train_gifs[i]))\n",
        "  display(HTML(f\"<h4>train mask {i}</h4>\"))\n",
        "  display(Image(filename=train_mask_gifs[i]))"
      ],
      "metadata": {
        "colab": {
          "base_uri": "https://localhost:8080/",
          "height": 1000
        },
        "id": "ihnsH0UgA9ER",
        "outputId": "34bf2ae9-df5e-4a85-cbbe-366053725ae4"
      },
      "execution_count": 8,
      "outputs": [
        {
          "output_type": "display_data",
          "data": {
            "text/plain": [
              "<IPython.core.display.HTML object>"
            ],
            "text/html": [
              "<h4>train image 0</h4>"
            ]
          },
          "metadata": {}
        },
        {
          "output_type": "display_data",
          "data": {
            "image/gif": "[encoded data removed]",
            "text/plain": [
              "<IPython.core.display.Image object>"
            ]
          },
          "metadata": {}
        },
        {
          "output_type": "display_data",
          "data": {
            "text/plain": [
              "<IPython.core.display.HTML object>"
            ],
            "text/html": [
              "<h4>train mask 0</h4>"
            ]
          },
          "metadata": {}
        },
        {
          "output_type": "display_data",
          "data": {
            "image/gif": "[encoded data removed]",
            "text/plain": [
              "<IPython.core.display.Image object>"
            ]
          },
          "metadata": {}
        },
        {
          "output_type": "display_data",
          "data": {
            "text/plain": [
              "<IPython.core.display.HTML object>"
            ],
            "text/html": [
              "<h4>train image 1</h4>"
            ]
          },
          "metadata": {}
        },
        {
          "output_type": "display_data",
          "data": {
            "image/gif": "[encoded data removed]",
            "text/plain": [
              "<IPython.core.display.Image object>"
            ]
          },
          "metadata": {}
        },
        {
          "output_type": "display_data",
          "data": {
            "text/plain": [
              "<IPython.core.display.HTML object>"
            ],
            "text/html": [
              "<h4>train mask 1</h4>"
            ]
          },
          "metadata": {}
        },
        {
          "output_type": "display_data",
          "data": {
            "image/gif": "[encoded data removed]",
            "text/plain": [
              "<IPython.core.display.Image object>"
            ]
          },
          "metadata": {}
        },
        {
          "output_type": "display_data",
          "data": {
            "text/plain": [
              "<IPython.core.display.HTML object>"
            ],
            "text/html": [
              "<h4>train image 2</h4>"
            ]
          },
          "metadata": {}
        },
        {
          "output_type": "display_data",
          "data": {
            "image/gif": "[encoded data removed]",
            "text/plain": [
              "<IPython.core.display.Image object>"
            ]
          },
          "metadata": {}
        },
        {
          "output_type": "display_data",
          "data": {
            "text/plain": [
              "<IPython.core.display.HTML object>"
            ],
            "text/html": [
              "<h4>train mask 2</h4>"
            ]
          },
          "metadata": {}
        },
        {
          "output_type": "display_data",
          "data": {
            "image/gif": "[encoded data removed]",
            "text/plain": [
              "<IPython.core.display.Image object>"
            ]
          },
          "metadata": {}
        },
        {
          "output_type": "display_data",
          "data": {
            "text/plain": [
              "<IPython.core.display.HTML object>"
            ],
            "text/html": [
              "<h4>train image 3</h4>"
            ]
          },
          "metadata": {}
        },
        {
          "output_type": "display_data",
          "data": {
            "image/gif": "[encoded data removed]",
            "text/plain": [
              "<IPython.core.display.Image object>"
            ]
          },
          "metadata": {}
        },
        {
          "output_type": "display_data",
          "data": {
            "text/plain": [
              "<IPython.core.display.HTML object>"
            ],
            "text/html": [
              "<h4>train mask 3</h4>"
            ]
          },
          "metadata": {}
        },
        {
          "output_type": "display_data",
          "data": {
            "image/gif": "[encoded data removed]",
            "text/plain": [
              "<IPython.core.display.Image object>"
            ]
          },
          "metadata": {}
        },
        {
          "output_type": "display_data",
          "data": {
            "text/plain": [
              "<IPython.core.display.HTML object>"
            ],
            "text/html": [
              "<h4>train image 4</h4>"
            ]
          },
          "metadata": {}
        },
        {
          "output_type": "display_data",
          "data": {
            "image/gif": "[encoded data removed]",
            "text/plain": [
              "<IPython.core.display.Image object>"
            ]
          },
          "metadata": {}
        },
        {
          "output_type": "display_data",
          "data": {
            "text/plain": [
              "<IPython.core.display.HTML object>"
            ],
            "text/html": [
              "<h4>train mask 4</h4>"
            ]
          },
          "metadata": {}
        },
        {
          "output_type": "display_data",
          "data": {
            "image/gif": "[encoded data removed]",
            "text/plain": [
              "<IPython.core.display.Image object>"
            ]
          },
          "metadata": {}
        },
        {
          "output_type": "display_data",
          "data": {
            "text/plain": [
              "<IPython.core.display.HTML object>"
            ],
            "text/html": [
              "<h4>train image 5</h4>"
            ]
          },
          "metadata": {}
        },
        {
          "output_type": "display_data",
          "data": {
            "image/gif": "[encoded data removed]",
            "text/plain": [
              "<IPython.core.display.Image object>"
            ]
          },
          "metadata": {}
        },
        {
          "output_type": "display_data",
          "data": {
            "text/plain": [
              "<IPython.core.display.HTML object>"
            ],
            "text/html": [
              "<h4>train mask 5</h4>"
            ]
          },
          "metadata": {}
        },
        {
          "output_type": "display_data",
          "data": {
            "image/gif": "[encoded data removed]",
            "text/plain": [
              "<IPython.core.display.Image object>"
            ]
          },
          "metadata": {}
        },
        {
          "output_type": "display_data",
          "data": {
            "text/plain": [
              "<IPython.core.display.HTML object>"
            ],
            "text/html": [
              "<h4>train image 6</h4>"
            ]
          },
          "metadata": {}
        },
        {
          "output_type": "display_data",
          "data": {
            "image/gif": "[encoded data removed]",
            "text/plain": [
              "<IPython.core.display.Image object>"
            ]
          },
          "metadata": {}
        },
        {
          "output_type": "display_data",
          "data": {
            "text/plain": [
              "<IPython.core.display.HTML object>"
            ],
            "text/html": [
              "<h4>train mask 6</h4>"
            ]
          },
          "metadata": {}
        },
        {
          "output_type": "display_data",
          "data": {
            "image/gif": "[encoded data removed]",
            "text/plain": [
              "<IPython.core.display.Image object>"
            ]
          },
          "metadata": {}
        },
        {
          "output_type": "display_data",
          "data": {
            "text/plain": [
              "<IPython.core.display.HTML object>"
            ],
            "text/html": [
              "<h4>train image 7</h4>"
            ]
          },
          "metadata": {}
        },
        {
          "output_type": "display_data",
          "data": {
            "image/gif": "[encoded data removed]",
            "text/plain": [
              "<IPython.core.display.Image object>"
            ]
          },
          "metadata": {}
        },
        {
          "output_type": "display_data",
          "data": {
            "text/plain": [
              "<IPython.core.display.HTML object>"
            ],
            "text/html": [
              "<h4>train mask 7</h4>"
            ]
          },
          "metadata": {}
        },
        {
          "output_type": "display_data",
          "data": {
            "image/gif": "[encoded data removed]",
            "text/plain": [
              "<IPython.core.display.Image object>"
            ]
          },
          "metadata": {}
        },
        {
          "output_type": "display_data",
          "data": {
            "text/plain": [
              "<IPython.core.display.HTML object>"
            ],
            "text/html": [
              "<h4>train image 8</h4>"
            ]
          },
          "metadata": {}
        },
        {
          "output_type": "display_data",
          "data": {
            "image/gif": "[encoded data removed]",
            "text/plain": [
              "<IPython.core.display.Image object>"
            ]
          },
          "metadata": {}
        },
        {
          "output_type": "display_data",
          "data": {
            "text/plain": [
              "<IPython.core.display.HTML object>"
            ],
            "text/html": [
              "<h4>train mask 8</h4>"
            ]
          },
          "metadata": {}
        },
        {
          "output_type": "display_data",
          "data": {
            "image/gif": "[encoded data removed]",
            "text/plain": [
              "<IPython.core.display.Image object>"
            ]
          },
          "metadata": {}
        },
        {
          "output_type": "display_data",
          "data": {
            "text/plain": [
              "<IPython.core.display.HTML object>"
            ],
            "text/html": [
              "<h4>train image 9</h4>"
            ]
          },
          "metadata": {}
        },
        {
          "output_type": "display_data",
          "data": {
            "image/gif": "[encoded data removed]",
            "text/plain": [
              "<IPython.core.display.Image object>"
            ]
          },
          "metadata": {}
        },
        {
          "output_type": "display_data",
          "data": {
            "text/plain": [
              "<IPython.core.display.HTML object>"
            ],
            "text/html": [
              "<h4>train mask 9</h4>"
            ]
          },
          "metadata": {}
        },
        {
          "output_type": "display_data",
          "data": {
            "image/gif": "[encoded data removed]",
            "text/plain": [
              "<IPython.core.display.Image object>"
            ]
          },
          "metadata": {}
        }
      ]
    },
    {
      "cell_type": "code",
      "source": [
        "vit_3d_seg = SimpleViT3dSeg(\n",
        "    image_size = 64,\n",
        "    frames = 64,\n",
        "    image_patch_size = 8,\n",
        "    frame_patch_size = 8,\n",
        "    num_classes = 3,\n",
        "    dim = 1024,\n",
        "    depth = 6,\n",
        "    heads = 8,\n",
        "    mlp_dim = 2048,\n",
        ")"
      ],
      "metadata": {
        "colab": {
          "base_uri": "https://localhost:8080/"
        },
        "id": "eDD_tdZqJLPl",
        "outputId": "331ebf14-9c50-4d14-b5e7-2e4cda4e4206"
      },
      "execution_count": 9,
      "outputs": [
        {
          "output_type": "stream",
          "name": "stdout",
          "text": [
            "1024 3\n"
          ]
        }
      ]
    },
    {
      "cell_type": "markdown",
      "source": [
        "We train the model on 100 epochs without pre-training"
      ],
      "metadata": {
        "id": "bPbWGLu9Tggp"
      }
    },
    {
      "cell_type": "code",
      "source": [
        "#training loop\n",
        "epochs = 100\n",
        "ce_loss = nn.CrossEntropyLoss()\n",
        "vit_3d_seg.to(device)\n",
        "optimizer = optim.Adam(vit_3d_seg.parameters(), lr=1e-3, weight_decay=1e-2)\n",
        "train_loss_list, test_loss_list = [], []\n",
        "\n",
        "best_test_loss = float('inf')\n",
        "early_stop_patience = 25\n",
        "early_stop_counter = 0\n",
        "total_elapsed_time = 0\n",
        "\n",
        "#amp set\n",
        "is_cuda = (device == 'cuda')\n",
        "amp_dtype = torch.bfloat16 if is_cuda and torch.cuda.is_bf16_supported() else torch.float16\n",
        "scaler = torch.amp.GradScaler(device=\"cuda\", enabled=is_cuda)\n",
        "\n",
        "\n",
        "for ep in range(epochs):\n",
        "  vit_3d_seg.train()\n",
        "  train_loss = 0.0\n",
        "  ep_start_time = time.perf_counter()\n",
        "\n",
        "  for x, y in train_loader:\n",
        "    x, y = x.to(device), y.to(device)\n",
        "    optimizer.zero_grad(set_to_none=True)\n",
        "    # with torch.autocast(device_type=\"cuda\" if is_cuda else \"cpu\", dtype=amp_dtype):\n",
        "\n",
        "    logits = vit_3d_seg(x)\n",
        "    loss = ce_loss(logits, y)\n",
        "    loss.backward()\n",
        "    optimizer.step()\n",
        "\n",
        "    #if using amp\n",
        "    #pytorch does not rec using autocast with loss backward https://docs.pytorch.org/tutorials/recipes/recipes/amp_recipe.html\n",
        "    # scaler.scale(loss).backward()\n",
        "    # scaler.step(optimizer)\n",
        "    # scaler.update()\n",
        "    train_loss += loss.item()\n",
        "  train_loss = train_loss / len(train_loader)\n",
        "\n",
        "  #eval\n",
        "  vit_3d_seg.eval()\n",
        "  test_loss = 0.0\n",
        "  with torch.no_grad():\n",
        "    for x, y in test_loader:\n",
        "      #with torch.autocast(device_type=\"cuda\" if is_cuda else \"cpu\", dtype=amp_dtype):\n",
        "      x, y = x.to(device), y.to(device)\n",
        "      logits = vit_3d_seg(x)\n",
        "      loss = ce_loss(logits, y)\n",
        "      test_loss += loss.item()\n",
        "    test_loss = test_loss / len(test_loader)\n",
        "\n",
        "  if test_loss < best_test_loss:\n",
        "    best_test_loss = test_loss\n",
        "    early_stop_counter = 0\n",
        "\n",
        "    #before saving the new best weight, del all old ones\n",
        "    past_weights = glob.glob(f\"{vit_3d_seg.__class__.__name__}_best*\")\n",
        "    for file in past_weights:\n",
        "      os.remove(file)\n",
        "\n",
        "    torch.save(vit_3d_seg.state_dict(), f\"{vit_3d_seg.__class__.__name__}_best_{ep}ep.pth\")\n",
        "  else:\n",
        "    early_stop_counter += 1\n",
        "    if early_stop_counter >= early_stop_patience:\n",
        "      print(f\"Early stopping at epoch {ep}\")\n",
        "      break\n",
        "\n",
        "  train_loss_list.append(train_loss)\n",
        "  test_loss_list.append(test_loss)\n",
        "  ep_end_time = time.perf_counter()\n",
        "  ep_elapsed_time = ep_end_time - ep_start_time\n",
        "  total_elapsed_time += ep_elapsed_time\n",
        "  print(f\"epoch: {ep}, train loss: {train_loss:.4f}, test loss: {test_loss:.4f}, elapsed time: {ep_elapsed_time:.4f}\")\n",
        "\n",
        "\n",
        "print(f\"Total training time: {total_elapsed_time}\")\n",
        "\n",
        "\n",
        "#plot train val loss\n",
        "plt.plot(train_loss_list, label='train loss')\n",
        "plt.plot(test_loss_list, label='test loss')\n",
        "plt.title(\"Train and test cross entropy loss for model\")\n",
        "plt.xlabel(\"Epoch\")\n",
        "plt.ylabel(\"CE Loss\")\n",
        "plt.legend()\n",
        "plt.show()"
      ],
      "metadata": {
        "id": "w9uDVIbVz6qa"
      },
      "execution_count": null,
      "outputs": []
    },
    {
      "cell_type": "markdown",
      "source": [
        "#Visualizing Results"
      ],
      "metadata": {
        "id": "8se32gejvoUa"
      }
    },
    {
      "cell_type": "code",
      "source": [
        "#dice score, source code from https://medium.com/data-scientists-diary/implementation-of-dice-loss-vision-pytorch-7eef1e438f68\n",
        "def dice_loss(pred, target, smooth=1):\n",
        "    \"\"\"\n",
        "    Computes the Dice Loss for binary segmentation.\n",
        "    Args:\n",
        "        pred: Tensor of predictions (batch_size, 1, H, W).\n",
        "        target: Tensor of ground truth (batch_size, 1, H, W).\n",
        "        smooth: Smoothing factor to avoid division by zero.\n",
        "    Returns:\n",
        "        Scalar Dice Loss.\n",
        "    \"\"\"\n",
        "    # Apply sigmoid to convert logits to probabilities\n",
        "    pred = torch.sigmoid(pred)\n",
        "\n",
        "    # Calculate intersection and union\n",
        "    intersection = (pred * target).sum(dim=(2, 3))\n",
        "    union = pred.sum(dim=(2, 3)) + target.sum(dim=(2, 3))\n",
        "\n",
        "    # Compute Dice Coefficient\n",
        "    dice = (2. * intersection + smooth) / (union + smooth)\n",
        "\n",
        "    # Return Dice Loss\n",
        "    return 1 - dice.mean()"
      ],
      "metadata": {
        "id": "xrPyo38cz5Or"
      },
      "execution_count": null,
      "outputs": []
    },
    {
      "cell_type": "code",
      "source": [
        "#visualize some predictions\n",
        "dice_score_list = {}\n",
        "\n",
        "weight_path = glob.glob(f\"{vit_3d_seg.__class__.__name__}_best*\")[0]\n",
        "print(f\"using weight: {os.path.basename(weight_path)}\")\n",
        "vit_3d_seg.load_state_dict(torch.load(weight_path))\n",
        "vit_3d_seg.to(device)\n",
        "vit_3d_seg.eval()\n",
        "\n",
        "for i in range(len(test_img)):\n",
        "  img, mask = test_img[i], test_mask[i]\n",
        "  img = img.unsqueeze(0).to(device)\n",
        "  mask = mask.unsqueeze(0).to(device)\n",
        "  logits = vit_3d_seg(img)\n",
        "  pred_mask = vit_3d_seg.logits_to_mask(logits)\n",
        "  pred_mask, mask = pred_mask.squeeze(0), mask.squeeze(0)\n",
        "\n",
        "  pred_mask_name = f\"pred_mask{i}.gif\"\n",
        "  save_gif(pred_mask, pred_mask_name)\n",
        "  save_gif(mask, f\"gt_mask{i}.gif\")\n",
        "\n",
        "  dice_score_list[pred_mask_name] = dice_loss(logits, mask.unsqueeze(0)).item()"
      ],
      "metadata": {
        "id": "I88HyoFMLfua"
      },
      "execution_count": null,
      "outputs": []
    },
    {
      "cell_type": "markdown",
      "source": [
        "###Results Discussion and Visualization\n",
        "\n",
        "Here the model's prediction and ground truth, visualized. Overall, it seems like the model is capable of capturing the general location of the cube and sphere. However, the segmentation of the sphere is quite noisy compared to the grouth truth. However, Im not sure if this is due to limitation with using the ViT as an encoder or the simple architecture of the decoder.\n",
        "\n",
        "The dice score is a bit low ranging from 0.5-0.7 especially considering the segmentation targets are simple objects. Although the test loss have trouble converging, I found that training the model for longer epochs still improved the segmentaiton quality by a good amount when comparing results at 10 vs 100 epochs. This could be due to the underlying data being very similar, since all of them are just spheres embedded inside a cube.\n",
        "\n",
        "In the future, we could try adding skip connections to see if segmentation results improve."
      ],
      "metadata": {
        "id": "1iVcm2ynTwVX"
      }
    },
    {
      "cell_type": "code",
      "source": [
        "#displaying test set predictions\n",
        "pred_gifs = sorted(glob.glob(\"pred_mask*.gif\"))\n",
        "gt_gifs = sorted(glob.glob(\"gt_mask*.gif\"))\n",
        "\n",
        "for i in range(len(pred_gifs)):\n",
        "  display(HTML(f\"<h4>Prediction {i} with dice score {dice_score_list[pred_gifs[i]] :.3f} </h4>\"))\n",
        "  display(Image(filename=pred_gifs[i]))\n",
        "  display(HTML(f\"<h4>GT {i}</h4>\"))\n",
        "  display(Image(filename=gt_gifs[i]))"
      ],
      "metadata": {
        "id": "ZM7WRgNLa1sb"
      },
      "execution_count": null,
      "outputs": []
    },
    {
      "cell_type": "code",
      "source": [],
      "metadata": {
        "id": "nQvcZ-U7LBzJ"
      },
      "execution_count": null,
      "outputs": []
    }
  ]
}